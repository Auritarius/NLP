{
  "nbformat": 4,
  "nbformat_minor": 0,
  "metadata": {
    "colab": {
      "name": "NLP_Homeworks.ipynb",
      "provenance": [],
      "collapsed_sections": [
        "srY32SUaUEkq",
        "QUeIklEWWmmp",
        "QjLNazCdWYvK",
        "esZ_QK18Nzof"
      ]
    },
    "kernelspec": {
      "name": "python3",
      "display_name": "Python 3"
    },
    "language_info": {
      "name": "python"
    }
  },
  "cells": [
    {
      "cell_type": "markdown",
      "metadata": {
        "id": "srY32SUaUEkq"
      },
      "source": [
        "#Python Homework 2\n"
      ]
    },
    {
      "cell_type": "code",
      "metadata": {
        "id": "ULpAEzVlIpXe"
      },
      "source": [
        "class Human:\n",
        "  def __init__(self, nume, prenume):\n",
        "    self.nume = nume\n",
        "    self.prenume = prenume \n",
        "  \n",
        "  def walking(self):\n",
        "    print('I\\'m walking')\n",
        "  \n",
        "  def introduce(self):\n",
        "    print(f'My name is {self.nume} {self.prenume}')\n",
        "  \n",
        "  def drive(self):\n",
        "    print(f'My name is {self.nume} {self.prenume} and I procrastinate all the time')\n",
        "\n"
      ],
      "execution_count": null,
      "outputs": []
    },
    {
      "cell_type": "code",
      "metadata": {
        "id": "t_Mi8kV9BQUJ"
      },
      "source": [
        "class Robot:\n",
        "  def __init__(self, model, manufacturer):\n",
        "    self.model = model\n",
        "    self.manufacturer = manufacturer\n",
        "\n",
        "  def introduce(self):\n",
        "    print(f'My model is {self.model} created by {self.manufacturer} Inc.')\n",
        "\n",
        "  def drive(self):\n",
        "    print(f'I am AI machine created by {self.manufacturer} Inc. and I am in the middle of a traffic jam')\n",
        "\n",
        "  def fill_up(self):\n",
        "    print('I need one more second to fully fill the tank of the car ')"
      ],
      "execution_count": null,
      "outputs": []
    },
    {
      "cell_type": "code",
      "metadata": {
        "id": "aV8zcHXoNOR6"
      },
      "source": [
        "class Cyborg(Human, Robot):\n",
        "  def __init__(self, nume, prenume, model, manufacturer, age):\n",
        "    Human.__init__(self, nume, prenume)\n",
        "    Robot.__init__(self, model, manufacturer)\n",
        "    self.age = age\n",
        "\n",
        "\n",
        "  def calculate_age(self):\n",
        "    return 100 - int(self.age)\n",
        "\n",
        "  def introduce(self):\n",
        "    print(f'My name is {self.nume} {self.prenume}.\\nI was created {self.age} years ago by {self.manufacturer} Inc. \\n')\n",
        "    \n",
        "  def purpose(self):\n",
        "    print(f'I still have {self.calculate_age()} years to live, but I want to tell you people one thing,\\nyou can be silent, sing, stand or run, but Skynet will still come here')"
      ],
      "execution_count": null,
      "outputs": []
    },
    {
      "cell_type": "code",
      "metadata": {
        "id": "zoY-tO9sQwCd"
      },
      "source": [
        "BoJack = Human('BoJack', 'Horseman')\n",
        "Chappie = Robot('Chappie', 'Tetravaal')\n",
        "Terminator = Cyborg('Arnold','Schwarzenegger','Pro-humanity','James', 73)"
      ],
      "execution_count": null,
      "outputs": []
    },
    {
      "cell_type": "code",
      "metadata": {
        "colab": {
          "base_uri": "https://localhost:8080/"
        },
        "id": "bmxj3HgJDRm0",
        "outputId": "6116c256-b727-4fa5-b349-435f6d877b1f"
      },
      "source": [
        "Terminator.introduce()\n",
        "Terminator.purpose()\n",
        "print('\\n')\n",
        "Chappie.introduce()\n",
        "Chappie.drive()\n",
        "Chappie.fill_up()\n",
        "print('\\n')\n",
        "BoJack.introduce()\n",
        "BoJack.drive()\n",
        "BoJack.walking()"
      ],
      "execution_count": null,
      "outputs": [
        {
          "output_type": "stream",
          "text": [
            "My name is Arnold Schwarzenegger.\n",
            "I was created 73 years ago by James Inc. \n",
            "\n",
            "I still have 27 years to live, but I want to tell you people one thing,\n",
            "you can be silent, sing, stand or run, but Skynet will still come here\n",
            "\n",
            "\n",
            "My model is Chappie created by Tetravaal Inc.\n",
            "I am AI machine created by Tetravaal Inc. and I am in the middle of a traffic jam\n",
            "I need one more second to fully fill the tank of the car \n",
            "\n",
            "\n",
            "My name is BoJack Horseman\n",
            "My name is BoJack Horseman and I procrastinate all the time\n",
            "I'm walking\n"
          ],
          "name": "stdout"
        }
      ]
    },
    {
      "cell_type": "markdown",
      "metadata": {
        "id": "QUeIklEWWmmp"
      },
      "source": [
        "#HomeWork №2"
      ]
    },
    {
      "cell_type": "code",
      "metadata": {
        "id": "G_32eNGuj7up",
        "colab": {
          "base_uri": "https://localhost:8080/"
        },
        "outputId": "e5f5d94a-55d9-4fdd-dca1-831215e3ebf9"
      },
      "source": [
        "import os\n",
        "import nltk\n",
        "import pandas as pd\n",
        "import spacy\n",
        "nltk.download('punkt')"
      ],
      "execution_count": null,
      "outputs": [
        {
          "output_type": "stream",
          "text": [
            "[nltk_data] Downloading package punkt to /root/nltk_data...\n",
            "[nltk_data]   Unzipping tokenizers/punkt.zip.\n"
          ],
          "name": "stdout"
        },
        {
          "output_type": "execute_result",
          "data": {
            "text/plain": [
              "True"
            ]
          },
          "metadata": {
            "tags": []
          },
          "execution_count": 2
        }
      ]
    },
    {
      "cell_type": "code",
      "metadata": {
        "id": "xRAmTlsxkd4x"
      },
      "source": [
        "# 1\n",
        "file = open(\"/content/drive/MyDrive/Programarea-mea/NLP/Homeworks/BIO_CS_DATA/TEST/biology/class_11_biology_chapter_1_0.txt\")"
      ],
      "execution_count": null,
      "outputs": []
    },
    {
      "cell_type": "code",
      "metadata": {
        "id": "BFmXhj0NkiYa"
      },
      "source": [
        "text = file.read().lower()"
      ],
      "execution_count": null,
      "outputs": []
    },
    {
      "cell_type": "code",
      "metadata": {
        "colab": {
          "base_uri": "https://localhost:8080/"
        },
        "id": "4gPvvwC5lQ4G",
        "outputId": "2ab4484e-ed07-4df1-b018-4d0ee0fcdca2"
      },
      "source": [
        "# 2\n",
        "#Numarul de propozitii\n",
        "count = 0\n",
        "for i in nltk.tokenize.sent_tokenize(text):\n",
        "  count = count + 1\n",
        "print(f'Numarul de propozituu unice utilizand sent_tokenize este {count}')\n",
        "  "
      ],
      "execution_count": null,
      "outputs": [
        {
          "output_type": "stream",
          "text": [
            "Numarul de propozituu unice utilizand sent_tokenize este 13\n"
          ],
          "name": "stdout"
        }
      ]
    },
    {
      "cell_type": "code",
      "metadata": {
        "colab": {
          "base_uri": "https://localhost:8080/"
        },
        "id": "N_KLEBkHlRT2",
        "outputId": "dbcb2bf2-c86a-4c50-d6ef-975fa553b7b9"
      },
      "source": [
        "#Numarul de tokenuri obtinute unice utilizand word_tokenize\n",
        "\n",
        "stocked = []\n",
        "for i in nltk.tokenize.word_tokenize(text):\n",
        "  if i not in stocked:\n",
        "    stocked.append(i)\n",
        "print(f'Numarul de tokenuri unice utilizand word_tokenize este {len(stocked)}')\n",
        "  "
      ],
      "execution_count": null,
      "outputs": [
        {
          "output_type": "stream",
          "text": [
            "Numarul de tokenuri unice utilizand word_tokenize este 134\n"
          ],
          "name": "stdout"
        }
      ]
    },
    {
      "cell_type": "code",
      "metadata": {
        "colab": {
          "base_uri": "https://localhost:8080/"
        },
        "id": "Eouvu4Mkl5pD",
        "outputId": "16e9380a-f97a-4448-a20e-5604e90e24b5"
      },
      "source": [
        "#Numarul de tokenuri obtinute unice utilizand casual_tokenize\n",
        "stocked2 = []\n",
        "for i in nltk.tokenize.casual_tokenize(text):\n",
        "  if i not in stocked2:\n",
        "    stocked2.append(i)\n",
        "print(f'Numarul de tokenuri unice utilizand casual_tokenize este {len(stocked2)}')"
      ],
      "execution_count": null,
      "outputs": [
        {
          "output_type": "stream",
          "text": [
            "Numarul de tokenuri unice utilizand casual_tokenize este 134\n"
          ],
          "name": "stdout"
        }
      ]
    },
    {
      "cell_type": "code",
      "metadata": {
        "colab": {
          "base_uri": "https://localhost:8080/"
        },
        "id": "erpUm6Jdv8CL",
        "outputId": "eea2a309-8d6c-4500-f230-8e993956c440"
      },
      "source": [
        "#Numarul de tokenuri obtinute unice utilizand MWETokenizer\n",
        "tk = nltk.tokenize.MWETokenizer([('to', 'go')])\n",
        "raw_stocked3 = tk.tokenize(text.split())\n",
        "stocked3 = []\n",
        "for i in raw_stocked3:\n",
        "  if i not in stocked3:\n",
        "    stocked3.append(i)\n",
        "del raw_stocked3\n",
        "print(f'Numarul de tokenuri unice utilizand MWETokenizer este {len(stocked3)}')"
      ],
      "execution_count": null,
      "outputs": [
        {
          "output_type": "stream",
          "text": [
            "Numarul de tokenuri unice utilizand MWETokenizer este 135\n"
          ],
          "name": "stdout"
        }
      ]
    },
    {
      "cell_type": "code",
      "metadata": {
        "id": "79Psxstu_Kk2"
      },
      "source": [
        "# 3\n",
        "#Cream dataset pandas\n",
        "from nltk.stem import LancasterStemmer, PorterStemmer, SnowballStemmer\n",
        "Snowball = SnowballStemmer(language='english')\n",
        "Lancaster = LancasterStemmer()\n",
        "Porter = PorterStemmer()\n"
      ],
      "execution_count": null,
      "outputs": []
    },
    {
      "cell_type": "code",
      "metadata": {
        "id": "Rxf79JlD_Llh"
      },
      "source": [
        "df = pd.DataFrame(columns=('original_token', 'Porter','Lancaster', 'Snowball'))"
      ],
      "execution_count": null,
      "outputs": []
    },
    {
      "cell_type": "code",
      "metadata": {
        "id": "5eXV2PKYB5Gg"
      },
      "source": [
        "for i in stocked:\n",
        "  a = pd.Series([i,Porter.stem(i), Lancaster.stem(i), Snowball.stem(i)], index = df.columns)\n",
        "  df = df.append(a, ignore_index=True)"
      ],
      "execution_count": null,
      "outputs": []
    },
    {
      "cell_type": "code",
      "metadata": {
        "id": "ek3Ycg48MKsU"
      },
      "source": [
        "# 4\n",
        "Freqvency = nltk.FreqDist(text.split())"
      ],
      "execution_count": null,
      "outputs": []
    },
    {
      "cell_type": "code",
      "metadata": {
        "id": "y3rRm9HXRFB0"
      },
      "source": [
        "last_common = Freqvency.hapaxes()"
      ],
      "execution_count": null,
      "outputs": []
    },
    {
      "cell_type": "code",
      "metadata": {
        "colab": {
          "base_uri": "https://localhost:8080/"
        },
        "id": "35IuJ0RXRqJS",
        "outputId": "471547bd-a28f-4102-ce8d-a6213cab4687"
      },
      "source": [
        "Freqvency.most_common(10)"
      ],
      "execution_count": null,
      "outputs": [
        {
          "output_type": "execute_result",
          "data": {
            "text/plain": [
              "[('of', 17),\n",
              " ('the', 13),\n",
              " ('and', 11),\n",
              " ('living', 9),\n",
              " ('in', 5),\n",
              " ('chapter', 4),\n",
              " ('a', 4),\n",
              " ('organisms', 4),\n",
              " ('world', 3),\n",
              " ('forms', 3)]"
            ]
          },
          "metadata": {
            "tags": []
          },
          "execution_count": 35
        }
      ]
    },
    {
      "cell_type": "code",
      "metadata": {
        "colab": {
          "base_uri": "https://localhost:8080/",
          "height": 321
        },
        "id": "BuOiNrXhOl56",
        "outputId": "36280866-3dab-44d0-ffc0-2f519898e610"
      },
      "source": [
        "Freqvency.plot(10)"
      ],
      "execution_count": null,
      "outputs": [
        {
          "output_type": "display_data",
          "data": {
            "image/png": "[encoded data removed]",
            "text/plain": [
              "<Figure size 432x288 with 1 Axes>"
            ]
          },
          "metadata": {
            "tags": [],
            "needs_background": "light"
          }
        }
      ]
    },
    {
      "cell_type": "code",
      "metadata": {
        "id": "B0lA-hXIP6UX"
      },
      "source": [
        "#Nu urmeaza legea lui Zipf foarte bine, din motivul ca avem putine exemplare ce nu ne \n",
        "#permite studierea acesteia mai bine."
      ],
      "execution_count": null,
      "outputs": []
    },
    {
      "cell_type": "code",
      "metadata": {
        "id": "_n725M8HQgaf"
      },
      "source": [
        "#5\n",
        "sp = spacy.load('en_core_web_sm')\n",
        "sen = sp(text)"
      ],
      "execution_count": null,
      "outputs": []
    },
    {
      "cell_type": "code",
      "metadata": {
        "id": "h19KMzyLSp-i"
      },
      "source": [
        "final_stock = {}\n",
        "for i in range(len(sen)):\n",
        "  word = sen[i]\n",
        "  part = word.pos_\n",
        "  if part not in final_stock:\n",
        "    final_stock[part] = []\n",
        "  if word not in final_stock[part]:\n",
        "    final_stock[part].append(word)"
      ],
      "execution_count": null,
      "outputs": []
    },
    {
      "cell_type": "code",
      "metadata": {
        "id": "3jgdUNhzTAo3"
      },
      "source": [
        "Freqvency2 = nltk.FreqDist(final_stock)"
      ],
      "execution_count": null,
      "outputs": []
    },
    {
      "cell_type": "code",
      "metadata": {
        "id": "kolc1QZmVFLr"
      },
      "source": [
        "Freqvency2 = {}\n",
        "for i in final_stock:\n",
        "  Freqvency2[i] = len(final_stock[i])\n"
      ],
      "execution_count": null,
      "outputs": []
    },
    {
      "cell_type": "code",
      "metadata": {
        "colab": {
          "base_uri": "https://localhost:8080/"
        },
        "id": "Q-Ccb9rJVeq4",
        "outputId": "d9a6ca75-d8d0-4704-a5b7-fd8b02160259"
      },
      "source": [
        "sorted = sorted(Freqvency2.items(), key=lambda kv: kv[1], reverse=True)\n",
        "print('Partile de vorbire in ordine descrescatoare: ')\n",
        "print(sorted)"
      ],
      "execution_count": null,
      "outputs": [
        {
          "output_type": "stream",
          "text": [
            "Partile de vorbire in ordine descrescatoare: \n",
            "[('NOUN', 81), ('ADP', 32), ('SPACE', 29), ('DET', 29), ('ADJ', 23), ('VERB', 23), ('PUNCT', 23), ('CCONJ', 13), ('ADV', 8), ('NUM', 6), ('AUX', 6), ('PRON', 3), ('SCONJ', 3), ('X', 1), ('PROPN', 1), ('PART', 1), ('SYM', 1)]\n"
          ],
          "name": "stdout"
        }
      ]
    },
    {
      "cell_type": "markdown",
      "metadata": {
        "id": "QjLNazCdWYvK"
      },
      "source": [
        "#HomeWork №3\n",
        "\n"
      ]
    },
    {
      "cell_type": "code",
      "metadata": {
        "id": "NVDHYqWnWjeM"
      },
      "source": [
        "import json\n",
        "import re"
      ],
      "execution_count": null,
      "outputs": []
    },
    {
      "cell_type": "code",
      "metadata": {
        "id": "PMjFNnpJc385"
      },
      "source": [
        "# 1\n",
        "file = open(\"/content/drive/MyDrive/Programarea-mea/NLP/Homeworks/spotify.html\")\n",
        "text = file.read()"
      ],
      "execution_count": null,
      "outputs": []
    },
    {
      "cell_type": "code",
      "metadata": {
        "id": "LVt-T8kVdBA2"
      },
      "source": [
        "#2\n",
        "pattern = 'http(.*?)\"'\n",
        "urls = re.findall(pattern, text )\n",
        "for i in range(len(urls)):\n",
        "  a = urls[i].replace('\"', '')\n",
        "  urls[i] = a\n",
        "my_json = {'urls': urls}\n",
        "\n",
        "with open('urls.json', 'w') as json_file:\n",
        "    json.dump(my_json, json_file)"
      ],
      "execution_count": null,
      "outputs": []
    },
    {
      "cell_type": "code",
      "metadata": {
        "id": "2r2yb9S-EdRQ"
      },
      "source": [
        "#3\n",
        "pattern = '#(?:[0-9a-fA-F]{3}){1,2}'\n",
        "hexes = re.findall(pattern, text)\n",
        "my_json = {'hexes': hexes}\n",
        "with open('hex.json', 'w') as json_file:\n",
        "    json.dump(my_json, json_file)"
      ],
      "execution_count": null,
      "outputs": []
    },
    {
      "cell_type": "code",
      "metadata": {
        "id": "pYobGQ2BFjje"
      },
      "source": [
        "#4\n",
        "pattern = '<span>by .+<\\/span>'\n",
        "artists = re.findall(pattern, text )\n",
        "for i in range(len(artists)):\n",
        "  a = artists[i].replace('by ', '').replace('<span>', '').replace('</span>', '')\n",
        "  artists[i] = a\n",
        "my_json = {'artists': artists}\n",
        "\n",
        "with open('artist.json', 'w') as json_file:\n",
        "    json.dump(my_json, json_file)"
      ],
      "execution_count": null,
      "outputs": []
    },
    {
      "cell_type": "markdown",
      "metadata": {
        "id": "esZ_QK18Nzof"
      },
      "source": [
        "#HomeWork №4\n"
      ]
    },
    {
      "cell_type": "code",
      "metadata": {
        "id": "35fci27XMl7s",
        "colab": {
          "base_uri": "https://localhost:8080/"
        },
        "outputId": "283c2626-41d4-4e17-baf1-d21e7d1d8643"
      },
      "source": [
        "import sklearn\n",
        "import regex as re\n",
        "from nltk.probability import FreqDist\n",
        "from nltk.corpus import stopwords\n",
        "from nltk.stem import PorterStemmer\n",
        "import nltk\n",
        "nltk.download('stopwords')\n",
        "import os\n",
        "from nltk.tokenize import word_tokenize\n",
        "from os.path import join"
      ],
      "execution_count": null,
      "outputs": [
        {
          "output_type": "stream",
          "text": [
            "[nltk_data] Downloading package stopwords to /root/nltk_data...\n",
            "[nltk_data]   Unzipping corpora/stopwords.zip.\n"
          ],
          "name": "stdout"
        }
      ]
    },
    {
      "cell_type": "code",
      "metadata": {
        "id": "_UM2SzyRrjm9",
        "colab": {
          "base_uri": "https://localhost:8080/"
        },
        "outputId": "01602c42-910a-4f54-9450-b6c99e0d6e6e"
      },
      "source": [
        "file = open(\"/content/drive/MyDrive/Programarea-mea/NLP/Homeworks/BIO_CS_DATA/TEST/biology/class_11_biology_chapter_1_0 (1).txt\")\n",
        "text = file.read()\n",
        "stop_words = stopwords.words('english')\n",
        "porter = PorterStemmer()\n",
        "nltk.download('punkt')"
      ],
      "execution_count": null,
      "outputs": [
        {
          "output_type": "stream",
          "text": [
            "[nltk_data] Downloading package punkt to /root/nltk_data...\n",
            "[nltk_data]   Unzipping tokenizers/punkt.zip.\n"
          ],
          "name": "stdout"
        },
        {
          "output_type": "execute_result",
          "data": {
            "text/plain": [
              "True"
            ]
          },
          "metadata": {
            "tags": []
          },
          "execution_count": 87
        }
      ]
    },
    {
      "cell_type": "code",
      "metadata": {
        "id": "z0hLToqtpUFG"
      },
      "source": [
        "#Task 1\n",
        "class TextNormalizer:\n",
        "  def __init__(self):\n",
        "    self = self\n",
        "\n",
        "  def normalize(self, text):\n",
        "    text = text.replace('\\n', ' ').replace('\\r', ' ')\n",
        "    text = text.lower()\n",
        "    text = ' '.join(re.findall('[a-z]+', text))\n",
        "    return text"
      ],
      "execution_count": null,
      "outputs": []
    },
    {
      "cell_type": "code",
      "metadata": {
        "id": "Hp4L4SUwrTn_"
      },
      "source": [
        "#Task 2\n",
        "from nltk.probability import FreqDist\n",
        "class WordsExtractor:\n",
        "  def __init__(self,stop_words):\n",
        "    self.stop_words = stop_words\n",
        "    self.textul = None\n",
        "  \n",
        "  def _fit(self, frequency):\n",
        "    return frequency.hapaxes()\n",
        "\n",
        "  def transform(self, text):\n",
        "    frequency = FreqDist(text.split(' '))\n",
        "    hapaxes_list = self._fit(frequency)\n",
        "    self.textul = ' '.join(c for c in text.split(' ') if c not in hapaxes_list and c not in self.stop_words)\n",
        "    return self.textul\n",
        "\n",
        "  "
      ],
      "execution_count": null,
      "outputs": []
    },
    {
      "cell_type": "code",
      "metadata": {
        "id": "NEzXZOMJr2lY"
      },
      "source": [
        "#Task 3\n",
        "class ApplyStemmer:\n",
        "  def __init__(self, folder_path, stemmer):\n",
        "    self.__folder_path = folder_path\n",
        "    self.stemmer = stemmer\n",
        "    self.classes_ = os.listdir(self.__folder_path)\n",
        "    self.cls_dict = {}\n",
        "\n",
        "    for cls in self.classes_:\n",
        "      self.cls_dict[cls] = []\n",
        "      for file_path in os.listdir(join(self.__folder_path, cls)):\n",
        "        self.cls_dict[cls].append(join(self.__folder_path, cls, file_path))\n",
        "  \n",
        "  def __getitem__(self, cls):\n",
        "    return open(self.cls_dict[cls[0]][cls[1]], 'r', encoding='utf-8').read()\n",
        "    \n",
        "  def text_curat(self):\n",
        "    for cls in self.cls_dict:\n",
        "      for thing in self.cls_dict[cls]: \n",
        "        text= str(open(thing, 'r', encoding='utf-8').read())\n",
        "        text = WordsExtractor(stop_words).transform(text)\n",
        "        text2 = ''\n",
        "        text2 = ' '.join([self.stemmer.stem(word) for word in word_tokenize(text) if word is not None])  \n",
        "        name = thing[:-4]\n",
        "        f = open(name+'(2).txt', \"x\")\n",
        "        f.write(text2)\n",
        "        f.close()\n",
        "  "
      ],
      "execution_count": null,
      "outputs": []
    },
    {
      "cell_type": "code",
      "metadata": {
        "id": "-x6rebF5m3lW",
        "colab": {
          "base_uri": "https://localhost:8080/",
          "height": 88
        },
        "outputId": "c4828ddd-7f33-46ea-d692-fe24c135cfc5"
      },
      "source": [
        "a = TextNormalizer()\n",
        "b = a.normalize(text)\n",
        "\n",
        "stop_words = stopwords.words('english')\n",
        "c = WordsExtractor(stop_words)\n",
        "d = c.transform(b)\n",
        "d"
      ],
      "execution_count": null,
      "outputs": [
        {
          "output_type": "execute_result",
          "data": {
            "application/vnd.google.colaboratory.intrinsic+json": {
              "type": "string"
            },
            "text/plain": [
              "'chapter living world chapter biological classification chapter kingdom chapter kingdom unit diversity living world biology life forms living living world diversity living organisms early man could inanimate matter living organisms early man inanimate matter among animals plants forms inanimate description living organisms including human human biology could biological description life forms classification among living organisms living organisms organisms man unit description including classification animals plants'"
            ]
          },
          "metadata": {
            "tags": []
          },
          "execution_count": 91
        }
      ]
    },
    {
      "cell_type": "code",
      "metadata": {
        "id": "FC7fmLwFkTS0"
      },
      "source": [
        "path = '/content/drive/MyDrive/Programarea-mea/NLP/Homeworks/BIO_CS_DATA/TEST'\n",
        "G = ApplyStemmer(path,porter)\n",
        "G.text_curat()"
      ],
      "execution_count": null,
      "outputs": []
    },
    {
      "cell_type": "code",
      "metadata": {
        "id": "7hkdOMRddYko"
      },
      "source": [
        ""
      ],
      "execution_count": null,
      "outputs": []
    },
    {
      "cell_type": "markdown",
      "metadata": {
        "id": "4A0AUXtkkUgy"
      },
      "source": [
        "#HomeWork №5\n"
      ]
    },
    {
      "cell_type": "code",
      "metadata": {
        "id": "Nt6soTfykcyT"
      },
      "source": [
        "import pandas as pd"
      ],
      "execution_count": null,
      "outputs": []
    },
    {
      "cell_type": "code",
      "metadata": {
        "id": "NKXHZy0Sk2PZ"
      },
      "source": [
        "#Import the data\n",
        "df = pd.read_csv('/content/drive/MyDrive/Programarea-mea/NLP/Homeworks/heart.csv')"
      ],
      "execution_count": null,
      "outputs": []
    },
    {
      "cell_type": "code",
      "metadata": {
        "colab": {
          "base_uri": "https://localhost:8080/"
        },
        "id": "pqdgRi3xlILE",
        "outputId": "81472214-b18b-46d3-8c5e-696936656c9b"
      },
      "source": [
        "#Analyse the data\n",
        "df.info()"
      ],
      "execution_count": null,
      "outputs": [
        {
          "output_type": "stream",
          "text": [
            "<class 'pandas.core.frame.DataFrame'>\n",
            "RangeIndex: 303 entries, 0 to 302\n",
            "Data columns (total 14 columns):\n",
            " #   Column    Non-Null Count  Dtype  \n",
            "---  ------    --------------  -----  \n",
            " 0   age       303 non-null    int64  \n",
            " 1   sex       303 non-null    int64  \n",
            " 2   cp        303 non-null    int64  \n",
            " 3   trestbps  303 non-null    int64  \n",
            " 4   chol      303 non-null    int64  \n",
            " 5   fbs       303 non-null    int64  \n",
            " 6   restecg   303 non-null    int64  \n",
            " 7   thalach   303 non-null    int64  \n",
            " 8   exang     303 non-null    int64  \n",
            " 9   oldpeak   303 non-null    float64\n",
            " 10  slope     303 non-null    int64  \n",
            " 11  ca        303 non-null    int64  \n",
            " 12  thal      303 non-null    int64  \n",
            " 13  target    303 non-null    int64  \n",
            "dtypes: float64(1), int64(13)\n",
            "memory usage: 33.3 KB\n"
          ],
          "name": "stdout"
        }
      ]
    },
    {
      "cell_type": "code",
      "metadata": {
        "colab": {
          "base_uri": "https://localhost:8080/",
          "height": 197
        },
        "id": "PIhWKlrX02Nl",
        "outputId": "24a775f0-0175-44fa-f1b9-4629352f9974"
      },
      "source": [
        "df.head()"
      ],
      "execution_count": null,
      "outputs": [
        {
          "output_type": "execute_result",
          "data": {
            "text/html": [
              "<div>\n",
              "<style scoped>\n",
              "    .dataframe tbody tr th:only-of-type {\n",
              "        vertical-align: middle;\n",
              "    }\n",
              "\n",
              "    .dataframe tbody tr th {\n",
              "        vertical-align: top;\n",
              "    }\n",
              "\n",
              "    .dataframe thead th {\n",
              "        text-align: right;\n",
              "    }\n",
              "</style>\n",
              "<table border=\"1\" class=\"dataframe\">\n",
              "  <thead>\n",
              "    <tr style=\"text-align: right;\">\n",
              "      <th></th>\n",
              "      <th>age</th>\n",
              "      <th>sex</th>\n",
              "      <th>cp</th>\n",
              "      <th>trestbps</th>\n",
              "      <th>chol</th>\n",
              "      <th>fbs</th>\n",
              "      <th>restecg</th>\n",
              "      <th>thalach</th>\n",
              "      <th>exang</th>\n",
              "      <th>oldpeak</th>\n",
              "      <th>slope</th>\n",
              "      <th>ca</th>\n",
              "      <th>thal</th>\n",
              "      <th>target</th>\n",
              "    </tr>\n",
              "  </thead>\n",
              "  <tbody>\n",
              "    <tr>\n",
              "      <th>0</th>\n",
              "      <td>63</td>\n",
              "      <td>1</td>\n",
              "      <td>3</td>\n",
              "      <td>145</td>\n",
              "      <td>233</td>\n",
              "      <td>1</td>\n",
              "      <td>0</td>\n",
              "      <td>150</td>\n",
              "      <td>0</td>\n",
              "      <td>2.3</td>\n",
              "      <td>0</td>\n",
              "      <td>0</td>\n",
              "      <td>1</td>\n",
              "      <td>1</td>\n",
              "    </tr>\n",
              "    <tr>\n",
              "      <th>1</th>\n",
              "      <td>37</td>\n",
              "      <td>1</td>\n",
              "      <td>2</td>\n",
              "      <td>130</td>\n",
              "      <td>250</td>\n",
              "      <td>0</td>\n",
              "      <td>1</td>\n",
              "      <td>187</td>\n",
              "      <td>0</td>\n",
              "      <td>3.5</td>\n",
              "      <td>0</td>\n",
              "      <td>0</td>\n",
              "      <td>2</td>\n",
              "      <td>1</td>\n",
              "    </tr>\n",
              "    <tr>\n",
              "      <th>2</th>\n",
              "      <td>41</td>\n",
              "      <td>0</td>\n",
              "      <td>1</td>\n",
              "      <td>130</td>\n",
              "      <td>204</td>\n",
              "      <td>0</td>\n",
              "      <td>0</td>\n",
              "      <td>172</td>\n",
              "      <td>0</td>\n",
              "      <td>1.4</td>\n",
              "      <td>2</td>\n",
              "      <td>0</td>\n",
              "      <td>2</td>\n",
              "      <td>1</td>\n",
              "    </tr>\n",
              "    <tr>\n",
              "      <th>3</th>\n",
              "      <td>56</td>\n",
              "      <td>1</td>\n",
              "      <td>1</td>\n",
              "      <td>120</td>\n",
              "      <td>236</td>\n",
              "      <td>0</td>\n",
              "      <td>1</td>\n",
              "      <td>178</td>\n",
              "      <td>0</td>\n",
              "      <td>0.8</td>\n",
              "      <td>2</td>\n",
              "      <td>0</td>\n",
              "      <td>2</td>\n",
              "      <td>1</td>\n",
              "    </tr>\n",
              "    <tr>\n",
              "      <th>4</th>\n",
              "      <td>57</td>\n",
              "      <td>0</td>\n",
              "      <td>0</td>\n",
              "      <td>120</td>\n",
              "      <td>354</td>\n",
              "      <td>0</td>\n",
              "      <td>1</td>\n",
              "      <td>163</td>\n",
              "      <td>1</td>\n",
              "      <td>0.6</td>\n",
              "      <td>2</td>\n",
              "      <td>0</td>\n",
              "      <td>2</td>\n",
              "      <td>1</td>\n",
              "    </tr>\n",
              "  </tbody>\n",
              "</table>\n",
              "</div>"
            ],
            "text/plain": [
              "   age  sex  cp  trestbps  chol  fbs  ...  exang  oldpeak  slope  ca  thal  target\n",
              "0   63    1   3       145   233    1  ...      0      2.3      0   0     1       1\n",
              "1   37    1   2       130   250    0  ...      0      3.5      0   0     2       1\n",
              "2   41    0   1       130   204    0  ...      0      1.4      2   0     2       1\n",
              "3   56    1   1       120   236    0  ...      0      0.8      2   0     2       1\n",
              "4   57    0   0       120   354    0  ...      1      0.6      2   0     2       1\n",
              "\n",
              "[5 rows x 14 columns]"
            ]
          },
          "metadata": {
            "tags": []
          },
          "execution_count": 96
        }
      ]
    },
    {
      "cell_type": "code",
      "metadata": {
        "colab": {
          "base_uri": "https://localhost:8080/",
          "height": 287
        },
        "id": "sMpwMkoblLNM",
        "outputId": "e1cd944c-6ac6-493c-fc91-361517ad66a1"
      },
      "source": [
        "df.describe()"
      ],
      "execution_count": null,
      "outputs": [
        {
          "output_type": "execute_result",
          "data": {
            "text/html": [
              "<div>\n",
              "<style scoped>\n",
              "    .dataframe tbody tr th:only-of-type {\n",
              "        vertical-align: middle;\n",
              "    }\n",
              "\n",
              "    .dataframe tbody tr th {\n",
              "        vertical-align: top;\n",
              "    }\n",
              "\n",
              "    .dataframe thead th {\n",
              "        text-align: right;\n",
              "    }\n",
              "</style>\n",
              "<table border=\"1\" class=\"dataframe\">\n",
              "  <thead>\n",
              "    <tr style=\"text-align: right;\">\n",
              "      <th></th>\n",
              "      <th>age</th>\n",
              "      <th>sex</th>\n",
              "      <th>cp</th>\n",
              "      <th>trestbps</th>\n",
              "      <th>chol</th>\n",
              "      <th>fbs</th>\n",
              "      <th>restecg</th>\n",
              "      <th>thalach</th>\n",
              "      <th>exang</th>\n",
              "      <th>oldpeak</th>\n",
              "      <th>slope</th>\n",
              "      <th>ca</th>\n",
              "      <th>thal</th>\n",
              "      <th>target</th>\n",
              "    </tr>\n",
              "  </thead>\n",
              "  <tbody>\n",
              "    <tr>\n",
              "      <th>count</th>\n",
              "      <td>303.000000</td>\n",
              "      <td>303.000000</td>\n",
              "      <td>303.000000</td>\n",
              "      <td>303.000000</td>\n",
              "      <td>303.000000</td>\n",
              "      <td>303.000000</td>\n",
              "      <td>303.000000</td>\n",
              "      <td>303.000000</td>\n",
              "      <td>303.000000</td>\n",
              "      <td>303.000000</td>\n",
              "      <td>303.000000</td>\n",
              "      <td>303.000000</td>\n",
              "      <td>303.000000</td>\n",
              "      <td>303.000000</td>\n",
              "    </tr>\n",
              "    <tr>\n",
              "      <th>mean</th>\n",
              "      <td>54.366337</td>\n",
              "      <td>0.683168</td>\n",
              "      <td>0.966997</td>\n",
              "      <td>131.623762</td>\n",
              "      <td>246.264026</td>\n",
              "      <td>0.148515</td>\n",
              "      <td>0.528053</td>\n",
              "      <td>149.646865</td>\n",
              "      <td>0.326733</td>\n",
              "      <td>1.039604</td>\n",
              "      <td>1.399340</td>\n",
              "      <td>0.729373</td>\n",
              "      <td>2.313531</td>\n",
              "      <td>0.544554</td>\n",
              "    </tr>\n",
              "    <tr>\n",
              "      <th>std</th>\n",
              "      <td>9.082101</td>\n",
              "      <td>0.466011</td>\n",
              "      <td>1.032052</td>\n",
              "      <td>17.538143</td>\n",
              "      <td>51.830751</td>\n",
              "      <td>0.356198</td>\n",
              "      <td>0.525860</td>\n",
              "      <td>22.905161</td>\n",
              "      <td>0.469794</td>\n",
              "      <td>1.161075</td>\n",
              "      <td>0.616226</td>\n",
              "      <td>1.022606</td>\n",
              "      <td>0.612277</td>\n",
              "      <td>0.498835</td>\n",
              "    </tr>\n",
              "    <tr>\n",
              "      <th>min</th>\n",
              "      <td>29.000000</td>\n",
              "      <td>0.000000</td>\n",
              "      <td>0.000000</td>\n",
              "      <td>94.000000</td>\n",
              "      <td>126.000000</td>\n",
              "      <td>0.000000</td>\n",
              "      <td>0.000000</td>\n",
              "      <td>71.000000</td>\n",
              "      <td>0.000000</td>\n",
              "      <td>0.000000</td>\n",
              "      <td>0.000000</td>\n",
              "      <td>0.000000</td>\n",
              "      <td>0.000000</td>\n",
              "      <td>0.000000</td>\n",
              "    </tr>\n",
              "    <tr>\n",
              "      <th>25%</th>\n",
              "      <td>47.500000</td>\n",
              "      <td>0.000000</td>\n",
              "      <td>0.000000</td>\n",
              "      <td>120.000000</td>\n",
              "      <td>211.000000</td>\n",
              "      <td>0.000000</td>\n",
              "      <td>0.000000</td>\n",
              "      <td>133.500000</td>\n",
              "      <td>0.000000</td>\n",
              "      <td>0.000000</td>\n",
              "      <td>1.000000</td>\n",
              "      <td>0.000000</td>\n",
              "      <td>2.000000</td>\n",
              "      <td>0.000000</td>\n",
              "    </tr>\n",
              "    <tr>\n",
              "      <th>50%</th>\n",
              "      <td>55.000000</td>\n",
              "      <td>1.000000</td>\n",
              "      <td>1.000000</td>\n",
              "      <td>130.000000</td>\n",
              "      <td>240.000000</td>\n",
              "      <td>0.000000</td>\n",
              "      <td>1.000000</td>\n",
              "      <td>153.000000</td>\n",
              "      <td>0.000000</td>\n",
              "      <td>0.800000</td>\n",
              "      <td>1.000000</td>\n",
              "      <td>0.000000</td>\n",
              "      <td>2.000000</td>\n",
              "      <td>1.000000</td>\n",
              "    </tr>\n",
              "    <tr>\n",
              "      <th>75%</th>\n",
              "      <td>61.000000</td>\n",
              "      <td>1.000000</td>\n",
              "      <td>2.000000</td>\n",
              "      <td>140.000000</td>\n",
              "      <td>274.500000</td>\n",
              "      <td>0.000000</td>\n",
              "      <td>1.000000</td>\n",
              "      <td>166.000000</td>\n",
              "      <td>1.000000</td>\n",
              "      <td>1.600000</td>\n",
              "      <td>2.000000</td>\n",
              "      <td>1.000000</td>\n",
              "      <td>3.000000</td>\n",
              "      <td>1.000000</td>\n",
              "    </tr>\n",
              "    <tr>\n",
              "      <th>max</th>\n",
              "      <td>77.000000</td>\n",
              "      <td>1.000000</td>\n",
              "      <td>3.000000</td>\n",
              "      <td>200.000000</td>\n",
              "      <td>564.000000</td>\n",
              "      <td>1.000000</td>\n",
              "      <td>2.000000</td>\n",
              "      <td>202.000000</td>\n",
              "      <td>1.000000</td>\n",
              "      <td>6.200000</td>\n",
              "      <td>2.000000</td>\n",
              "      <td>4.000000</td>\n",
              "      <td>3.000000</td>\n",
              "      <td>1.000000</td>\n",
              "    </tr>\n",
              "  </tbody>\n",
              "</table>\n",
              "</div>"
            ],
            "text/plain": [
              "              age         sex          cp  ...          ca        thal      target\n",
              "count  303.000000  303.000000  303.000000  ...  303.000000  303.000000  303.000000\n",
              "mean    54.366337    0.683168    0.966997  ...    0.729373    2.313531    0.544554\n",
              "std      9.082101    0.466011    1.032052  ...    1.022606    0.612277    0.498835\n",
              "min     29.000000    0.000000    0.000000  ...    0.000000    0.000000    0.000000\n",
              "25%     47.500000    0.000000    0.000000  ...    0.000000    2.000000    0.000000\n",
              "50%     55.000000    1.000000    1.000000  ...    0.000000    2.000000    1.000000\n",
              "75%     61.000000    1.000000    2.000000  ...    1.000000    3.000000    1.000000\n",
              "max     77.000000    1.000000    3.000000  ...    4.000000    3.000000    1.000000\n",
              "\n",
              "[8 rows x 14 columns]"
            ]
          },
          "metadata": {
            "tags": []
          },
          "execution_count": 97
        }
      ]
    },
    {
      "cell_type": "code",
      "metadata": {
        "id": "W7p2mnSvUtcc"
      },
      "source": [
        "X_train = df.drop('target', axis = 1)\n",
        "y_train = df.target"
      ],
      "execution_count": null,
      "outputs": []
    },
    {
      "cell_type": "code",
      "metadata": {
        "id": "RxPjJIWClU_C"
      },
      "source": [
        "import numpy as np\n",
        "from sklearn.ensemble import IsolationForest\n",
        "import matplotlib.pyplot as plt\n",
        "import seaborn as sns\n",
        "from sklearn.metrics import classification_report"
      ],
      "execution_count": null,
      "outputs": []
    },
    {
      "cell_type": "code",
      "metadata": {
        "id": "1I_s_kT5oixk"
      },
      "source": [
        "f = df.values"
      ],
      "execution_count": null,
      "outputs": []
    },
    {
      "cell_type": "code",
      "metadata": {
        "id": "QeE7F9hbpYq4"
      },
      "source": [
        "clf = IsolationForest(random_state=0).fit(f)"
      ],
      "execution_count": null,
      "outputs": []
    },
    {
      "cell_type": "code",
      "metadata": {
        "colab": {
          "base_uri": "https://localhost:8080/"
        },
        "id": "J9n1oUCnMrWe",
        "outputId": "f97ccc48-ee7d-4d83-c788-cdd3a9ffc925"
      },
      "source": [
        "clf.predict(df)"
      ],
      "execution_count": null,
      "outputs": [
        {
          "output_type": "execute_result",
          "data": {
            "text/plain": [
              "array([-1, -1,  1,  1,  1,  1,  1,  1, -1,  1,  1,  1,  1,  1, -1,  1,  1,\n",
              "       -1,  1,  1,  1,  1,  1, -1, -1,  1,  1,  1, -1, -1,  1,  1,  1,  1,\n",
              "       -1, -1,  1,  1,  1,  1,  1,  1,  1,  1,  1,  1,  1,  1, -1,  1,  1,\n",
              "        1,  1,  1,  1,  1,  1,  1,  1,  1, -1,  1, -1,  1,  1,  1,  1,  1,\n",
              "        1,  1,  1,  1,  1,  1,  1,  1,  1,  1,  1,  1,  1,  1,  1, -1,  1,\n",
              "       -1,  1,  1,  1,  1,  1,  1, -1, -1,  1,  1,  1, -1,  1, -1,  1, -1,\n",
              "        1, -1,  1,  1, -1,  1,  1,  1, -1, -1,  1,  1,  1,  1,  1,  1,  1,\n",
              "        1,  1,  1,  1,  1,  1,  1,  1,  1,  1, -1,  1,  1,  1,  1,  1,  1,\n",
              "       -1,  1,  1,  1,  1,  1,  1,  1, -1,  1,  1,  1,  1,  1, -1,  1,  1,\n",
              "        1,  1,  1,  1,  1, -1,  1,  1,  1,  1, -1, -1,  1,  1, -1,  1, -1,\n",
              "       -1,  1,  1,  1,  1,  1, -1,  1,  1,  1,  1, -1,  1,  1,  1,  1,  1,\n",
              "        1,  1,  1,  1,  1,  1,  1,  1, -1,  1,  1,  1, -1,  1,  1,  1, -1,\n",
              "       -1,  1,  1,  1,  1,  1,  1,  1,  1,  1,  1, -1,  1, -1,  1, -1, -1,\n",
              "       -1, -1, -1,  1, -1,  1,  1, -1,  1,  1, -1,  1,  1, -1,  1,  1,  1,\n",
              "       -1,  1, -1,  1,  1,  1,  1,  1, -1, -1, -1,  1, -1, -1, -1,  1, -1,\n",
              "        1,  1,  1,  1, -1, -1,  1,  1, -1,  1,  1, -1, -1,  1, -1,  1,  1,\n",
              "       -1,  1,  1,  1,  1,  1, -1,  1,  1, -1, -1,  1,  1,  1,  1,  1,  1,\n",
              "       -1,  1, -1, -1,  1, -1,  1,  1, -1,  1,  1, -1,  1,  1])"
            ]
          },
          "metadata": {
            "tags": []
          },
          "execution_count": 102
        }
      ]
    },
    {
      "cell_type": "code",
      "metadata": {
        "id": "DFBGTQDlMtUN"
      },
      "source": [
        "df_cleaned = df[np.where(clf.predict(df)== 1, True, False)]"
      ],
      "execution_count": null,
      "outputs": []
    },
    {
      "cell_type": "code",
      "metadata": {
        "colab": {
          "base_uri": "https://localhost:8080/",
          "height": 406
        },
        "id": "oZajPgptDDlX",
        "outputId": "230acf11-8c6a-4222-857d-8397da594b70"
      },
      "source": [
        "df_cleaned"
      ],
      "execution_count": null,
      "outputs": [
        {
          "output_type": "execute_result",
          "data": {
            "text/html": [
              "<div>\n",
              "<style scoped>\n",
              "    .dataframe tbody tr th:only-of-type {\n",
              "        vertical-align: middle;\n",
              "    }\n",
              "\n",
              "    .dataframe tbody tr th {\n",
              "        vertical-align: top;\n",
              "    }\n",
              "\n",
              "    .dataframe thead th {\n",
              "        text-align: right;\n",
              "    }\n",
              "</style>\n",
              "<table border=\"1\" class=\"dataframe\">\n",
              "  <thead>\n",
              "    <tr style=\"text-align: right;\">\n",
              "      <th></th>\n",
              "      <th>age</th>\n",
              "      <th>sex</th>\n",
              "      <th>cp</th>\n",
              "      <th>trestbps</th>\n",
              "      <th>chol</th>\n",
              "      <th>fbs</th>\n",
              "      <th>restecg</th>\n",
              "      <th>thalach</th>\n",
              "      <th>exang</th>\n",
              "      <th>oldpeak</th>\n",
              "      <th>slope</th>\n",
              "      <th>ca</th>\n",
              "      <th>thal</th>\n",
              "      <th>target</th>\n",
              "    </tr>\n",
              "  </thead>\n",
              "  <tbody>\n",
              "    <tr>\n",
              "      <th>2</th>\n",
              "      <td>41</td>\n",
              "      <td>0</td>\n",
              "      <td>1</td>\n",
              "      <td>130</td>\n",
              "      <td>204</td>\n",
              "      <td>0</td>\n",
              "      <td>0</td>\n",
              "      <td>172</td>\n",
              "      <td>0</td>\n",
              "      <td>1.4</td>\n",
              "      <td>2</td>\n",
              "      <td>0</td>\n",
              "      <td>2</td>\n",
              "      <td>1</td>\n",
              "    </tr>\n",
              "    <tr>\n",
              "      <th>3</th>\n",
              "      <td>56</td>\n",
              "      <td>1</td>\n",
              "      <td>1</td>\n",
              "      <td>120</td>\n",
              "      <td>236</td>\n",
              "      <td>0</td>\n",
              "      <td>1</td>\n",
              "      <td>178</td>\n",
              "      <td>0</td>\n",
              "      <td>0.8</td>\n",
              "      <td>2</td>\n",
              "      <td>0</td>\n",
              "      <td>2</td>\n",
              "      <td>1</td>\n",
              "    </tr>\n",
              "    <tr>\n",
              "      <th>4</th>\n",
              "      <td>57</td>\n",
              "      <td>0</td>\n",
              "      <td>0</td>\n",
              "      <td>120</td>\n",
              "      <td>354</td>\n",
              "      <td>0</td>\n",
              "      <td>1</td>\n",
              "      <td>163</td>\n",
              "      <td>1</td>\n",
              "      <td>0.6</td>\n",
              "      <td>2</td>\n",
              "      <td>0</td>\n",
              "      <td>2</td>\n",
              "      <td>1</td>\n",
              "    </tr>\n",
              "    <tr>\n",
              "      <th>5</th>\n",
              "      <td>57</td>\n",
              "      <td>1</td>\n",
              "      <td>0</td>\n",
              "      <td>140</td>\n",
              "      <td>192</td>\n",
              "      <td>0</td>\n",
              "      <td>1</td>\n",
              "      <td>148</td>\n",
              "      <td>0</td>\n",
              "      <td>0.4</td>\n",
              "      <td>1</td>\n",
              "      <td>0</td>\n",
              "      <td>1</td>\n",
              "      <td>1</td>\n",
              "    </tr>\n",
              "    <tr>\n",
              "      <th>6</th>\n",
              "      <td>56</td>\n",
              "      <td>0</td>\n",
              "      <td>1</td>\n",
              "      <td>140</td>\n",
              "      <td>294</td>\n",
              "      <td>0</td>\n",
              "      <td>0</td>\n",
              "      <td>153</td>\n",
              "      <td>0</td>\n",
              "      <td>1.3</td>\n",
              "      <td>1</td>\n",
              "      <td>0</td>\n",
              "      <td>2</td>\n",
              "      <td>1</td>\n",
              "    </tr>\n",
              "    <tr>\n",
              "      <th>...</th>\n",
              "      <td>...</td>\n",
              "      <td>...</td>\n",
              "      <td>...</td>\n",
              "      <td>...</td>\n",
              "      <td>...</td>\n",
              "      <td>...</td>\n",
              "      <td>...</td>\n",
              "      <td>...</td>\n",
              "      <td>...</td>\n",
              "      <td>...</td>\n",
              "      <td>...</td>\n",
              "      <td>...</td>\n",
              "      <td>...</td>\n",
              "      <td>...</td>\n",
              "    </tr>\n",
              "    <tr>\n",
              "      <th>296</th>\n",
              "      <td>63</td>\n",
              "      <td>0</td>\n",
              "      <td>0</td>\n",
              "      <td>124</td>\n",
              "      <td>197</td>\n",
              "      <td>0</td>\n",
              "      <td>1</td>\n",
              "      <td>136</td>\n",
              "      <td>1</td>\n",
              "      <td>0.0</td>\n",
              "      <td>1</td>\n",
              "      <td>0</td>\n",
              "      <td>2</td>\n",
              "      <td>0</td>\n",
              "    </tr>\n",
              "    <tr>\n",
              "      <th>298</th>\n",
              "      <td>57</td>\n",
              "      <td>0</td>\n",
              "      <td>0</td>\n",
              "      <td>140</td>\n",
              "      <td>241</td>\n",
              "      <td>0</td>\n",
              "      <td>1</td>\n",
              "      <td>123</td>\n",
              "      <td>1</td>\n",
              "      <td>0.2</td>\n",
              "      <td>1</td>\n",
              "      <td>0</td>\n",
              "      <td>3</td>\n",
              "      <td>0</td>\n",
              "    </tr>\n",
              "    <tr>\n",
              "      <th>299</th>\n",
              "      <td>45</td>\n",
              "      <td>1</td>\n",
              "      <td>3</td>\n",
              "      <td>110</td>\n",
              "      <td>264</td>\n",
              "      <td>0</td>\n",
              "      <td>1</td>\n",
              "      <td>132</td>\n",
              "      <td>0</td>\n",
              "      <td>1.2</td>\n",
              "      <td>1</td>\n",
              "      <td>0</td>\n",
              "      <td>3</td>\n",
              "      <td>0</td>\n",
              "    </tr>\n",
              "    <tr>\n",
              "      <th>301</th>\n",
              "      <td>57</td>\n",
              "      <td>1</td>\n",
              "      <td>0</td>\n",
              "      <td>130</td>\n",
              "      <td>131</td>\n",
              "      <td>0</td>\n",
              "      <td>1</td>\n",
              "      <td>115</td>\n",
              "      <td>1</td>\n",
              "      <td>1.2</td>\n",
              "      <td>1</td>\n",
              "      <td>1</td>\n",
              "      <td>3</td>\n",
              "      <td>0</td>\n",
              "    </tr>\n",
              "    <tr>\n",
              "      <th>302</th>\n",
              "      <td>57</td>\n",
              "      <td>0</td>\n",
              "      <td>1</td>\n",
              "      <td>130</td>\n",
              "      <td>236</td>\n",
              "      <td>0</td>\n",
              "      <td>0</td>\n",
              "      <td>174</td>\n",
              "      <td>0</td>\n",
              "      <td>0.0</td>\n",
              "      <td>1</td>\n",
              "      <td>1</td>\n",
              "      <td>2</td>\n",
              "      <td>0</td>\n",
              "    </tr>\n",
              "  </tbody>\n",
              "</table>\n",
              "<p>226 rows × 14 columns</p>\n",
              "</div>"
            ],
            "text/plain": [
              "     age  sex  cp  trestbps  chol  fbs  ...  exang  oldpeak  slope  ca  thal  target\n",
              "2     41    0   1       130   204    0  ...      0      1.4      2   0     2       1\n",
              "3     56    1   1       120   236    0  ...      0      0.8      2   0     2       1\n",
              "4     57    0   0       120   354    0  ...      1      0.6      2   0     2       1\n",
              "5     57    1   0       140   192    0  ...      0      0.4      1   0     1       1\n",
              "6     56    0   1       140   294    0  ...      0      1.3      1   0     2       1\n",
              "..   ...  ...  ..       ...   ...  ...  ...    ...      ...    ...  ..   ...     ...\n",
              "296   63    0   0       124   197    0  ...      1      0.0      1   0     2       0\n",
              "298   57    0   0       140   241    0  ...      1      0.2      1   0     3       0\n",
              "299   45    1   3       110   264    0  ...      0      1.2      1   0     3       0\n",
              "301   57    1   0       130   131    0  ...      1      1.2      1   1     3       0\n",
              "302   57    0   1       130   236    0  ...      0      0.0      1   1     2       0\n",
              "\n",
              "[226 rows x 14 columns]"
            ]
          },
          "metadata": {
            "tags": []
          },
          "execution_count": 104
        }
      ]
    },
    {
      "cell_type": "code",
      "metadata": {
        "id": "U4bAAQVNN0Y0"
      },
      "source": [
        "X = df_cleaned.drop('target', axis = 1)\n",
        "y = df_cleaned.target"
      ],
      "execution_count": null,
      "outputs": []
    },
    {
      "cell_type": "code",
      "metadata": {
        "id": "JnfsrdUVDA5T"
      },
      "source": [
        "from sklearn.model_selection import train_test_split"
      ],
      "execution_count": null,
      "outputs": []
    },
    {
      "cell_type": "code",
      "metadata": {
        "id": "O9-euhKy86wp"
      },
      "source": [
        "X_train, X_test, y_train, y_test = train_test_split(X, y, test_size=0.3, random_state=42)"
      ],
      "execution_count": null,
      "outputs": []
    },
    {
      "cell_type": "code",
      "metadata": {
        "id": "vyl6DT1UDE66"
      },
      "source": [
        "from sklearn.linear_model import LogisticRegression\n",
        "from sklearn.metrics import plot_confusion_matrix"
      ],
      "execution_count": null,
      "outputs": []
    },
    {
      "cell_type": "code",
      "metadata": {
        "id": "tWeDZrbYDM7W"
      },
      "source": [
        "model = LogisticRegression(max_iter = 4000).fit(X_train, y_train)"
      ],
      "execution_count": null,
      "outputs": []
    },
    {
      "cell_type": "code",
      "metadata": {
        "id": "Mi89871mDnDy"
      },
      "source": [
        "predicted = model.predict(X_test)"
      ],
      "execution_count": null,
      "outputs": []
    },
    {
      "cell_type": "code",
      "metadata": {
        "colab": {
          "base_uri": "https://localhost:8080/"
        },
        "id": "5RvERSwKD_vm",
        "outputId": "bd0100b6-13d0-4977-be0d-d4b6bda2a418"
      },
      "source": [
        "predicted"
      ],
      "execution_count": null,
      "outputs": [
        {
          "output_type": "execute_result",
          "data": {
            "text/plain": [
              "array([1, 0, 1, 0, 1, 1, 0, 1, 0, 0, 1, 0, 0, 1, 1, 1, 1, 0, 1, 0, 1, 1,\n",
              "       0, 1, 1, 1, 0, 0, 1, 1, 1, 1, 1, 1, 1, 1, 0, 1, 1, 0, 1, 0, 0, 1,\n",
              "       0, 0, 1, 1, 1, 1, 1, 1, 1, 1, 1, 1, 0, 1, 0, 0, 1, 1, 1, 1, 1, 1,\n",
              "       1, 1])"
            ]
          },
          "metadata": {
            "tags": []
          },
          "execution_count": 111
        }
      ]
    },
    {
      "cell_type": "code",
      "metadata": {
        "id": "n21FlNw4EAwJ"
      },
      "source": [
        "from sklearn.metrics import accuracy_score"
      ],
      "execution_count": null,
      "outputs": []
    },
    {
      "cell_type": "code",
      "metadata": {
        "id": "QVUwZgcrEQla"
      },
      "source": [
        "lregresion_score = accuracy_score(predicted, y_test)"
      ],
      "execution_count": null,
      "outputs": []
    },
    {
      "cell_type": "code",
      "metadata": {
        "colab": {
          "base_uri": "https://localhost:8080/"
        },
        "id": "seWHgi1-EVKA",
        "outputId": "6b37e3af-6780-491f-c660-83e8c6dcbcec"
      },
      "source": [
        "lregresion_score"
      ],
      "execution_count": null,
      "outputs": [
        {
          "output_type": "execute_result",
          "data": {
            "text/plain": [
              "0.8382352941176471"
            ]
          },
          "metadata": {
            "tags": []
          },
          "execution_count": 114
        }
      ]
    },
    {
      "cell_type": "code",
      "metadata": {
        "colab": {
          "base_uri": "https://localhost:8080/",
          "height": 438
        },
        "id": "5ZKHzHvGKp9G",
        "outputId": "49953738-db44-4050-e6c8-9b8951849184"
      },
      "source": [
        "plot_confusion_matrix(model, X_test, y_test)\n",
        "print(classification_report(y_test, model.predict(X_test)))"
      ],
      "execution_count": null,
      "outputs": [
        {
          "output_type": "stream",
          "text": [
            "              precision    recall  f1-score   support\n",
            "\n",
            "           0       0.90      0.68      0.78        28\n",
            "           1       0.81      0.95      0.87        40\n",
            "\n",
            "    accuracy                           0.84        68\n",
            "   macro avg       0.86      0.81      0.82        68\n",
            "weighted avg       0.85      0.84      0.83        68\n",
            "\n"
          ],
          "name": "stdout"
        },
        {
          "output_type": "display_data",
          "data": {
            "image/png": "[encoded data removed]",
            "text/plain": [
              "<Figure size 432x288 with 2 Axes>"
            ]
          },
          "metadata": {
            "tags": [],
            "needs_background": "light"
          }
        }
      ]
    },
    {
      "cell_type": "code",
      "metadata": {
        "id": "fl7hlxXfEV90"
      },
      "source": [
        "from sklearn.naive_bayes import ComplementNB, BernoulliNB, MultinomialNB\n"
      ],
      "execution_count": null,
      "outputs": []
    },
    {
      "cell_type": "code",
      "metadata": {
        "colab": {
          "base_uri": "https://localhost:8080/",
          "height": 456
        },
        "id": "nKsuiE0YEw1L",
        "outputId": "6857e996-bf80-4812-bd51-e334afcae190"
      },
      "source": [
        "#ComplementNB\n",
        "Complement = ComplementNB().fit(X_train, y_train)\n",
        "Complement_score = accuracy_score(Complement.predict(X_test), y_test)\n",
        "print(Complement_score)\n",
        "plot_confusion_matrix(Complement, X_test, y_test)\n",
        "print(classification_report(y_test, Complement.predict(X_test)))"
      ],
      "execution_count": null,
      "outputs": [
        {
          "output_type": "stream",
          "text": [
            "0.7794117647058824\n",
            "              precision    recall  f1-score   support\n",
            "\n",
            "           0       0.74      0.71      0.73        28\n",
            "           1       0.80      0.82      0.81        40\n",
            "\n",
            "    accuracy                           0.78        68\n",
            "   macro avg       0.77      0.77      0.77        68\n",
            "weighted avg       0.78      0.78      0.78        68\n",
            "\n"
          ],
          "name": "stdout"
        },
        {
          "output_type": "display_data",
          "data": {
            "image/png": "[encoded data removed]",
            "text/plain": [
              "<Figure size 432x288 with 2 Axes>"
            ]
          },
          "metadata": {
            "tags": [],
            "needs_background": "light"
          }
        }
      ]
    },
    {
      "cell_type": "code",
      "metadata": {
        "colab": {
          "base_uri": "https://localhost:8080/",
          "height": 456
        },
        "id": "UWpRM-mkFHpO",
        "outputId": "67cf62da-4ef2-4740-c890-2d25184483ed"
      },
      "source": [
        "#BernoulliNB\n",
        "Bernoulli = BernoulliNB().fit(X_train, y_train)\n",
        "Bernoulli_score = accuracy_score(Bernoulli.predict(X_test), y_test)\n",
        "print(Bernoulli_score)\n",
        "plot_confusion_matrix(Bernoulli, X_test, y_test)\n",
        "print(classification_report(y_test, Bernoulli.predict(X_test)))"
      ],
      "execution_count": null,
      "outputs": [
        {
          "output_type": "stream",
          "text": [
            "0.8382352941176471\n",
            "              precision    recall  f1-score   support\n",
            "\n",
            "           0       0.79      0.82      0.81        28\n",
            "           1       0.87      0.85      0.86        40\n",
            "\n",
            "    accuracy                           0.84        68\n",
            "   macro avg       0.83      0.84      0.83        68\n",
            "weighted avg       0.84      0.84      0.84        68\n",
            "\n"
          ],
          "name": "stdout"
        },
        {
          "output_type": "display_data",
          "data": {
            "image/png": "[encoded data removed]",
            "text/plain": [
              "<Figure size 432x288 with 2 Axes>"
            ]
          },
          "metadata": {
            "tags": [],
            "needs_background": "light"
          }
        }
      ]
    },
    {
      "cell_type": "code",
      "metadata": {
        "colab": {
          "base_uri": "https://localhost:8080/",
          "height": 456
        },
        "id": "9QtLOTm9Fwa6",
        "outputId": "1a9a92d5-054e-4a76-a167-91232be3cf6f"
      },
      "source": [
        "#MultinomialNB\n",
        "Multinomial = MultinomialNB().fit(X_train, y_train)\n",
        "Multinomial_score = accuracy_score(Multinomial.predict(X_test), y_test)\n",
        "print(Multinomial_score)\n",
        "plot_confusion_matrix(Multinomial, X_test, y_test)\n",
        "print(classification_report(y_test, Multinomial.predict(X_test)))"
      ],
      "execution_count": null,
      "outputs": [
        {
          "output_type": "stream",
          "text": [
            "0.7794117647058824\n",
            "              precision    recall  f1-score   support\n",
            "\n",
            "           0       0.74      0.71      0.73        28\n",
            "           1       0.80      0.82      0.81        40\n",
            "\n",
            "    accuracy                           0.78        68\n",
            "   macro avg       0.77      0.77      0.77        68\n",
            "weighted avg       0.78      0.78      0.78        68\n",
            "\n"
          ],
          "name": "stdout"
        },
        {
          "output_type": "display_data",
          "data": {
            "image/png": "[encoded data removed]",
            "text/plain": [
              "<Figure size 432x288 with 2 Axes>"
            ]
          },
          "metadata": {
            "tags": [],
            "needs_background": "light"
          }
        }
      ]
    },
    {
      "cell_type": "code",
      "metadata": {
        "id": "TlzcZHyPF36e"
      },
      "source": [
        "from sklearn.svm import SVC"
      ],
      "execution_count": null,
      "outputs": []
    },
    {
      "cell_type": "code",
      "metadata": {
        "colab": {
          "base_uri": "https://localhost:8080/",
          "height": 461
        },
        "id": "zZdt8UfCGmY_",
        "outputId": "aa4649f8-6730-4271-bf8f-6e59b9dc1989"
      },
      "source": [
        "svc = SVC().fit(X_train, y_train)\n",
        "svc_score = accuracy_score(svc.predict(X_test), y_test)\n",
        "print(svc_score)\n",
        "plot_confusion_matrix(svc, X_test, y_test)\n",
        "print(classification_report(y_test, svc.predict(X_test)))"
      ],
      "execution_count": null,
      "outputs": [
        {
          "output_type": "stream",
          "text": [
            "0.6323529411764706\n",
            "              precision    recall  f1-score   support\n",
            "\n",
            "           0       1.00      0.11      0.19        28\n",
            "           1       0.62      1.00      0.76        40\n",
            "\n",
            "    accuracy                           0.63        68\n",
            "   macro avg       0.81      0.55      0.48        68\n",
            "weighted avg       0.77      0.63      0.53        68\n",
            "\n"
          ],
          "name": "stdout"
        },
        {
          "output_type": "display_data",
          "data": {
            "image/png": "[encoded data removed]",
            "text/plain": [
              "<Figure size 432x288 with 2 Axes>"
            ]
          },
          "metadata": {
            "tags": [],
            "needs_background": "light"
          }
        }
      ]
    },
    {
      "cell_type": "code",
      "metadata": {
        "id": "_CzRm5JWGsmp"
      },
      "source": [
        "from sklearn.ensemble import RandomForestClassifier"
      ],
      "execution_count": null,
      "outputs": []
    },
    {
      "cell_type": "code",
      "metadata": {
        "colab": {
          "base_uri": "https://localhost:8080/",
          "height": 456
        },
        "id": "K4O6bUrVHMOo",
        "outputId": "8f42b633-84e4-4d2e-ff43-8ac6e17b23cf"
      },
      "source": [
        "model = RandomForestClassifier().fit(X_train, y_train)\n",
        "forest_score = accuracy_score(model.predict(X_test), y_test)\n",
        "print(forest_score)\n",
        "plot_confusion_matrix(model, X_test, y_test)\n",
        "print(classification_report(y_test, model.predict(X_test)))"
      ],
      "execution_count": null,
      "outputs": [
        {
          "output_type": "stream",
          "text": [
            "0.8382352941176471\n",
            "              precision    recall  f1-score   support\n",
            "\n",
            "           0       0.87      0.71      0.78        28\n",
            "           1       0.82      0.93      0.87        40\n",
            "\n",
            "    accuracy                           0.84        68\n",
            "   macro avg       0.85      0.82      0.83        68\n",
            "weighted avg       0.84      0.84      0.84        68\n",
            "\n"
          ],
          "name": "stdout"
        },
        {
          "output_type": "display_data",
          "data": {
            "image/png": "[encoded data removed]",
            "text/plain": [
              "<Figure size 432x288 with 2 Axes>"
            ]
          },
          "metadata": {
            "tags": [],
            "needs_background": "light"
          }
        }
      ]
    },
    {
      "cell_type": "code",
      "metadata": {
        "colab": {
          "base_uri": "https://localhost:8080/",
          "height": 456
        },
        "id": "9NRy1C4YHet3",
        "outputId": "d6dd84d8-9971-4e31-bcc8-15a2751493b1"
      },
      "source": [
        "from sklearn.neighbors import KNeighborsClassifier\n",
        "\n",
        "knn = KNeighborsClassifier().fit(X_train, y_train)\n",
        "knn_score = accuracy_score(knn.predict(X_test), y_test)\n",
        "print(score)\n",
        "plot_confusion_matrix(knn, X_test, y_test)\n",
        "print(classification_report(y_test, knn.predict(X_test)))"
      ],
      "execution_count": null,
      "outputs": [
        {
          "output_type": "stream",
          "text": [
            "0.6911764705882353\n",
            "              precision    recall  f1-score   support\n",
            "\n",
            "           0       0.67      0.50      0.57        28\n",
            "           1       0.70      0.82      0.76        40\n",
            "\n",
            "    accuracy                           0.69        68\n",
            "   macro avg       0.68      0.66      0.67        68\n",
            "weighted avg       0.69      0.69      0.68        68\n",
            "\n"
          ],
          "name": "stdout"
        },
        {
          "output_type": "display_data",
          "data": {
            "image/png": "[encoded data removed]",
            "text/plain": [
              "<Figure size 432x288 with 2 Axes>"
            ]
          },
          "metadata": {
            "tags": [],
            "needs_background": "light"
          }
        }
      ]
    },
    {
      "cell_type": "code",
      "metadata": {
        "colab": {
          "base_uri": "https://localhost:8080/",
          "height": 516
        },
        "id": "sL80_23EHxDz",
        "outputId": "ba4960b7-0dc0-4458-c7a5-1706a6027652"
      },
      "source": [
        "from sklearn.linear_model import Perceptron\n",
        "perceptron = Perceptron().fit(X_train, y_train)\n",
        "perceptron_score = accuracy_score(perceptron.predict(X_test),y_test)\n",
        "print(perceptron_score)\n",
        "plot_confusion_matrix(perceptron, X_test, y_test)\n",
        "print(classification_report(y_test, perceptron.predict(X_test)))"
      ],
      "execution_count": null,
      "outputs": [
        {
          "output_type": "stream",
          "text": [
            "0.5882352941176471\n",
            "              precision    recall  f1-score   support\n",
            "\n",
            "           0       0.00      0.00      0.00        28\n",
            "           1       0.59      1.00      0.74        40\n",
            "\n",
            "    accuracy                           0.59        68\n",
            "   macro avg       0.29      0.50      0.37        68\n",
            "weighted avg       0.35      0.59      0.44        68\n",
            "\n"
          ],
          "name": "stdout"
        },
        {
          "output_type": "stream",
          "text": [
            "/usr/local/lib/python3.7/dist-packages/sklearn/metrics/_classification.py:1272: UndefinedMetricWarning: Precision and F-score are ill-defined and being set to 0.0 in labels with no predicted samples. Use `zero_division` parameter to control this behavior.\n",
            "  _warn_prf(average, modifier, msg_start, len(result))\n"
          ],
          "name": "stderr"
        },
        {
          "output_type": "display_data",
          "data": {
            "image/png": "[encoded data removed]",
            "text/plain": [
              "<Figure size 432x288 with 2 Axes>"
            ]
          },
          "metadata": {
            "tags": [],
            "needs_background": "light"
          }
        }
      ]
    },
    {
      "cell_type": "code",
      "metadata": {
        "colab": {
          "base_uri": "https://localhost:8080/",
          "height": 456
        },
        "id": "l8a3GYf7JTV6",
        "outputId": "225c8f41-4470-442d-ee21-e0492f6e55a2"
      },
      "source": [
        "from sklearn.tree import DecisionTreeClassifier\n",
        "\n",
        "tree = DecisionTreeClassifier().fit(X_train, y_train)\n",
        "tree_score = accuracy_score(tree.predict(X_test), y_test)\n",
        "print(tree_score)\n",
        "plot_confusion_matrix(tree, X_test, y_test)\n",
        "print(classification_report(y_test, tree.predict(X_test)))"
      ],
      "execution_count": null,
      "outputs": [
        {
          "output_type": "stream",
          "text": [
            "0.8088235294117647\n",
            "              precision    recall  f1-score   support\n",
            "\n",
            "           0       0.89      0.61      0.72        28\n",
            "           1       0.78      0.95      0.85        40\n",
            "\n",
            "    accuracy                           0.81        68\n",
            "   macro avg       0.84      0.78      0.79        68\n",
            "weighted avg       0.82      0.81      0.80        68\n",
            "\n"
          ],
          "name": "stdout"
        },
        {
          "output_type": "display_data",
          "data": {
            "image/png": "[encoded data removed]",
            "text/plain": [
              "<Figure size 432x288 with 2 Axes>"
            ]
          },
          "metadata": {
            "tags": [],
            "needs_background": "light"
          }
        }
      ]
    },
    {
      "cell_type": "code",
      "metadata": {
        "colab": {
          "base_uri": "https://localhost:8080/",
          "height": 77
        },
        "id": "bkgF1jwOI0ol",
        "outputId": "0b51a477-ff4b-4bcb-d8b0-e9baa1cb3796"
      },
      "source": [
        "tabel = {\n",
        "    'Logistic Regression': [lregresion_score],\n",
        "    'ComplementNB': [Complement_score],\n",
        "    'BernoulliNB': [Bernoulli_score],\n",
        "    'Mutinomail Regression': [Multinomial_score],\n",
        "    'Perceptron':[perceptron_score],\n",
        "    'K-nearest neighbors': [knn_score],\n",
        "    'SVM': [svc_score],\n",
        "    'Decision Tree': [tree_score],\n",
        "    'RandomForestClassifier': [forest_score]\n",
        "}\n",
        "\n",
        "tabel_df = pd.DataFrame.from_dict(tabel)\n",
        "tabel_df"
      ],
      "execution_count": null,
      "outputs": [
        {
          "output_type": "execute_result",
          "data": {
            "text/html": [
              "<div>\n",
              "<style scoped>\n",
              "    .dataframe tbody tr th:only-of-type {\n",
              "        vertical-align: middle;\n",
              "    }\n",
              "\n",
              "    .dataframe tbody tr th {\n",
              "        vertical-align: top;\n",
              "    }\n",
              "\n",
              "    .dataframe thead th {\n",
              "        text-align: right;\n",
              "    }\n",
              "</style>\n",
              "<table border=\"1\" class=\"dataframe\">\n",
              "  <thead>\n",
              "    <tr style=\"text-align: right;\">\n",
              "      <th></th>\n",
              "      <th>Logistic Regression</th>\n",
              "      <th>ComplementNB</th>\n",
              "      <th>BernoulliNB</th>\n",
              "      <th>Mutinomail Regression</th>\n",
              "      <th>Perceptron</th>\n",
              "      <th>K-nearest neighbors</th>\n",
              "      <th>SVM</th>\n",
              "      <th>Decision Tree</th>\n",
              "      <th>RandomForestClassifier</th>\n",
              "    </tr>\n",
              "  </thead>\n",
              "  <tbody>\n",
              "    <tr>\n",
              "      <th>0</th>\n",
              "      <td>0.838235</td>\n",
              "      <td>0.779412</td>\n",
              "      <td>0.838235</td>\n",
              "      <td>0.779412</td>\n",
              "      <td>0.588235</td>\n",
              "      <td>0.691176</td>\n",
              "      <td>0.632353</td>\n",
              "      <td>0.808824</td>\n",
              "      <td>0.838235</td>\n",
              "    </tr>\n",
              "  </tbody>\n",
              "</table>\n",
              "</div>"
            ],
            "text/plain": [
              "   Logistic Regression  ComplementNB  ...  Decision Tree  RandomForestClassifier\n",
              "0             0.838235      0.779412  ...       0.808824                0.838235\n",
              "\n",
              "[1 rows x 9 columns]"
            ]
          },
          "metadata": {
            "tags": []
          },
          "execution_count": 127
        }
      ]
    },
    {
      "cell_type": "code",
      "metadata": {
        "id": "3ErxJ4ghN4uL"
      },
      "source": [
        ""
      ],
      "execution_count": null,
      "outputs": []
    },
    {
      "cell_type": "markdown",
      "metadata": {
        "id": "yWphCymUOmhJ"
      },
      "source": [
        "Cel mai precis model este RandomForestClassifier, cu acuratetea de 86%.Avand 68 de exemplare, astfel prezicand negativ 3 elemente, care de fapt erau pozitive, si respectiv 6 elemente pozitive, care de fapt erau negative. "
      ]
    },
    {
      "cell_type": "code",
      "metadata": {
        "id": "0UmJ9MjKQGnl"
      },
      "source": [
        ""
      ],
      "execution_count": null,
      "outputs": []
    }
  ]
}