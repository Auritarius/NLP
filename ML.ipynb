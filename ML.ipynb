{
  "nbformat": 4,
  "nbformat_minor": 5,
  "metadata": {
    "kernelspec": {
      "name": "python3",
      "display_name": "Python 3"
    },
    "colab": {
      "name": "ML.ipynb",
      "provenance": []
    },
    "language_info": {
      "name": "python"
    },
    "accelerator": "GPU"
  },
  "cells": [
    {
      "cell_type": "code",
      "metadata": {
        "id": "b8bf27b0"
      },
      "source": [
        "import pandas as pd\n",
        "from collections import Counter\n",
        "from sklearn.datasets import make_classification\n",
        "from imblearn.under_sampling import RandomUnderSampler\n",
        "import numpy as np\n",
        "from sklearn.model_selection import train_test_split\n",
        "\n",
        "\n",
        "# getting the dataset from files\n",
        "train_df = pd.read_csv('/content/drive/MyDrive/Programarea-mea/NLP/Project/Datasets/Toxic_dataset/toxic_train.csv')\n",
        "test_df = pd.read_csv('/content/drive/MyDrive/Programarea-mea/NLP/Project/Datasets/Toxic_dataset/toxic_test.csv')\n",
        "\n",
        "#Merging datasets\n",
        "df = pd.concat([train_df,test_df ])\n",
        "df = df.drop(columns=['Unnamed: 0'])"
      ],
      "id": "b8bf27b0",
      "execution_count": null,
      "outputs": []
    },
    {
      "cell_type": "code",
      "metadata": {
        "colab": {
          "base_uri": "https://localhost:8080/",
          "height": 406
        },
        "id": "6AuurXVSMzrq",
        "outputId": "ee95ed6e-f505-4ea2-b014-0279c5affe63"
      },
      "source": [
        "df"
      ],
      "id": "6AuurXVSMzrq",
      "execution_count": null,
      "outputs": [
        {
          "output_type": "execute_result",
          "data": {
            "text/html": [
              "<div>\n",
              "<style scoped>\n",
              "    .dataframe tbody tr th:only-of-type {\n",
              "        vertical-align: middle;\n",
              "    }\n",
              "\n",
              "    .dataframe tbody tr th {\n",
              "        vertical-align: top;\n",
              "    }\n",
              "\n",
              "    .dataframe thead th {\n",
              "        text-align: right;\n",
              "    }\n",
              "</style>\n",
              "<table border=\"1\" class=\"dataframe\">\n",
              "  <thead>\n",
              "    <tr style=\"text-align: right;\">\n",
              "      <th></th>\n",
              "      <th>comment_text</th>\n",
              "      <th>toxic</th>\n",
              "    </tr>\n",
              "  </thead>\n",
              "  <tbody>\n",
              "    <tr>\n",
              "      <th>0</th>\n",
              "      <td>Explanation\\r\\nWhy the edits made under my use...</td>\n",
              "      <td>0</td>\n",
              "    </tr>\n",
              "    <tr>\n",
              "      <th>1</th>\n",
              "      <td>D'aww! He matches this background colour I'm s...</td>\n",
              "      <td>0</td>\n",
              "    </tr>\n",
              "    <tr>\n",
              "      <th>2</th>\n",
              "      <td>Hey man, I'm really not trying to edit war. It...</td>\n",
              "      <td>0</td>\n",
              "    </tr>\n",
              "    <tr>\n",
              "      <th>3</th>\n",
              "      <td>\"\\r\\nMore\\r\\nI can't make any real suggestions...</td>\n",
              "      <td>0</td>\n",
              "    </tr>\n",
              "    <tr>\n",
              "      <th>4</th>\n",
              "      <td>You, sir, are my hero. Any chance you remember...</td>\n",
              "      <td>0</td>\n",
              "    </tr>\n",
              "    <tr>\n",
              "      <th>...</th>\n",
              "      <td>...</td>\n",
              "      <td>...</td>\n",
              "    </tr>\n",
              "    <tr>\n",
              "      <th>63973</th>\n",
              "      <td>:Jerome, I see you never got around to this…! ...</td>\n",
              "      <td>0</td>\n",
              "    </tr>\n",
              "    <tr>\n",
              "      <th>63974</th>\n",
              "      <td>==Lucky bastard== \\r\\n http://wikimediafoundat...</td>\n",
              "      <td>0</td>\n",
              "    </tr>\n",
              "    <tr>\n",
              "      <th>63975</th>\n",
              "      <td>==shame on you all!!!== \\r\\n\\r\\n You want to s...</td>\n",
              "      <td>0</td>\n",
              "    </tr>\n",
              "    <tr>\n",
              "      <th>63976</th>\n",
              "      <td>MEL GIBSON IS A NAZI BITCH WHO MAKES SHITTY MO...</td>\n",
              "      <td>1</td>\n",
              "    </tr>\n",
              "    <tr>\n",
              "      <th>63977</th>\n",
              "      <td>\" \\r\\n\\r\\n == Unicorn lair discovery == \\r\\n\\r...</td>\n",
              "      <td>0</td>\n",
              "    </tr>\n",
              "  </tbody>\n",
              "</table>\n",
              "<p>223549 rows × 2 columns</p>\n",
              "</div>"
            ],
            "text/plain": [
              "                                            comment_text  toxic\n",
              "0      Explanation\\r\\nWhy the edits made under my use...      0\n",
              "1      D'aww! He matches this background colour I'm s...      0\n",
              "2      Hey man, I'm really not trying to edit war. It...      0\n",
              "3      \"\\r\\nMore\\r\\nI can't make any real suggestions...      0\n",
              "4      You, sir, are my hero. Any chance you remember...      0\n",
              "...                                                  ...    ...\n",
              "63973  :Jerome, I see you never got around to this…! ...      0\n",
              "63974  ==Lucky bastard== \\r\\n http://wikimediafoundat...      0\n",
              "63975  ==shame on you all!!!== \\r\\n\\r\\n You want to s...      0\n",
              "63976  MEL GIBSON IS A NAZI BITCH WHO MAKES SHITTY MO...      1\n",
              "63977  \" \\r\\n\\r\\n == Unicorn lair discovery == \\r\\n\\r...      0\n",
              "\n",
              "[223549 rows x 2 columns]"
            ]
          },
          "metadata": {
            "tags": []
          },
          "execution_count": 4
        }
      ]
    },
    {
      "cell_type": "code",
      "metadata": {
        "id": "4h7dpbzwkylv"
      },
      "source": [
        "# Balancing data \n",
        "df_toxic  = df[df['toxic']==1]\n",
        "df_non_toxic = df[df['toxic']==0]\n",
        "\n",
        "lenght = len(df_toxic)\n",
        "\n",
        "df_balanced = pd.concat([df_toxic, df_non_toxic.iloc[:lenght]]).sample(frac=1)"
      ],
      "id": "4h7dpbzwkylv",
      "execution_count": null,
      "outputs": []
    },
    {
      "cell_type": "code",
      "metadata": {
        "id": "QZQlMyCanZgg"
      },
      "source": [
        "# number of values of the toxic column (target)\n",
        "X = df_balanced['comment_text']\n",
        "X = X.to_list()\n",
        "y = df_balanced['toxic']"
      ],
      "id": "QZQlMyCanZgg",
      "execution_count": null,
      "outputs": []
    },
    {
      "cell_type": "code",
      "metadata": {
        "id": "a-wDzgpGPhkv",
        "colab": {
          "base_uri": "https://localhost:8080/"
        },
        "outputId": "5877ddaa-1e48-42d6-c07b-d5edef6a35b1"
      },
      "source": [
        "y"
      ],
      "id": "a-wDzgpGPhkv",
      "execution_count": null,
      "outputs": [
        {
          "output_type": "execute_result",
          "data": {
            "text/plain": [
              "6         1\n",
              "12        1\n",
              "16        1\n",
              "42        1\n",
              "43        1\n",
              "         ..\n",
              "126961    0\n",
              "36105     0\n",
              "35963     0\n",
              "20875     0\n",
              "124688    0\n",
              "Name: toxic, Length: 42768, dtype: int64"
            ]
          },
          "metadata": {
            "tags": []
          },
          "execution_count": 8
        }
      ]
    },
    {
      "cell_type": "markdown",
      "metadata": {
        "id": "c72b7d1f"
      },
      "source": [
        "## Preprocessing"
      ],
      "id": "c72b7d1f"
    },
    {
      "cell_type": "markdown",
      "metadata": {
        "id": "5d9ae3cb"
      },
      "source": [
        "### Creating a transformer for preprocessing text data"
      ],
      "id": "5d9ae3cb"
    },
    {
      "cell_type": "code",
      "metadata": {
        "id": "8587d72b"
      },
      "source": [
        "from sklearn.base import BaseEstimator, TransformerMixin # a transformer enherits these classes\n",
        "\n",
        "import nltk\n",
        "from nltk.probability import FreqDist\n",
        "from nltk.tokenize import word_tokenize, sent_tokenize\n",
        "\n",
        "import re\n",
        "\n",
        "# transformer class\n",
        "class TextTransformer(BaseEstimator, TransformerMixin):\n",
        "    def __init__(self, stopwords, stemmer):\n",
        "        super().__init__()\n",
        "        self.stopwords = stopwords\n",
        "        self.stemmer = stemmer\n",
        "        self.hapaxes = []\n",
        "        self.named_entities = []\n",
        "    \n",
        "    # by default a transformer's fit method just returns self\n",
        "    def fit(self, X, y=None):\n",
        "        return self\n",
        "    \n",
        "    def transform(self, X, y=None):\n",
        "        # for every text in the X list transform its data\n",
        "        for i, sample in enumerate(X):\n",
        "            X[i] = self.__normalize(sample)\n",
        "            X[i] = self.__eliminate_stopwords(X[i])\n",
        "            X[i] = self.__get_hapaxes(X[i])\n",
        "            X[i] = self.__stem(X[i])\n",
        "            self.__named_entity_extraction(X[i])\n",
        "        \n",
        "        # return the transformed text list\n",
        "        return X\n",
        "\n",
        "    def __normalize(self, text):\n",
        "        # select only the words, make them lowercase and eliminate \\r and \\n\n",
        "        return ' '.join(re.findall('[a-zA-Z]+', text.lower().replace(r'\\r', ' ').replace(r'\\n', ' ')))\n",
        "    \n",
        "    def __eliminate_stopwords(self, text):\n",
        "        if self.stopwords is not None:\n",
        "            return ''.join([word for word in text if word not in self.stopwords])\n",
        "    \n",
        "    def __get_hapaxes(self, text, eliminate=True):\n",
        "        # getting the hapaxes\n",
        "        fd = FreqDist(word_tokenize(text))\n",
        "        self.hapaxes.append(fd.hapaxes())\n",
        "                       \n",
        "        # eliminating the hapaxes if needed (by default: needed)\n",
        "        if eliminate:\n",
        "            text = ''.join([word for word in text if word not in self.hapaxes])\n",
        "        \n",
        "        return text\n",
        "    \n",
        "    def __stem(self, text):\n",
        "        return ' '.join([self.stemmer.stem(word) for word in word_tokenize(text)])\n",
        "    \n",
        "    def __named_entity_extraction(self, text):\n",
        "        # tokenize text's sentences\n",
        "        for sent in sent_tokenize(text):\n",
        "            # get the part-of-speech tags of every token of the current sentence\n",
        "            for chunk in nltk.ne_chunk(nltk.pos_tag(word_tokenize(sent))):\n",
        "                # store named entities\n",
        "                if hasattr(chunk, 'label'):\n",
        "                    self.named_entities.append(chunk)"
      ],
      "id": "8587d72b",
      "execution_count": null,
      "outputs": []
    },
    {
      "cell_type": "markdown",
      "metadata": {
        "id": "d5865d8d"
      },
      "source": [
        "### Using the transformer to preprocess the training text"
      ],
      "id": "d5865d8d"
    },
    {
      "cell_type": "code",
      "metadata": {
        "id": "9d085c16",
        "colab": {
          "base_uri": "https://localhost:8080/"
        },
        "outputId": "5f00edc6-ac9f-45f7-8ebe-a63d1ac550c0"
      },
      "source": [
        "from nltk.stem import PorterStemmer\n",
        "from nltk.corpus import stopwords\n",
        "import nltk\n",
        "nltk.download('stopwords')\n",
        "nltk.download('punkt')\n",
        "nltk.download('averaged_perceptron_tagger')\n",
        "nltk.download('maxent_ne_chunker')\n",
        "nltk.download('words')\n",
        "stopwords = stopwords.words('english')\n",
        "\n",
        "# create an instance of the transformer class\n",
        "\n",
        "transformer = TextTransformer(stopwords=['and', 'for', 'in', 'about', 'for', 'as', 'the'], stemmer=PorterStemmer())"
      ],
      "id": "9d085c16",
      "execution_count": null,
      "outputs": [
        {
          "output_type": "stream",
          "text": [
            "[nltk_data] Downloading package stopwords to /root/nltk_data...\n",
            "[nltk_data]   Package stopwords is already up-to-date!\n",
            "[nltk_data] Downloading package punkt to /root/nltk_data...\n",
            "[nltk_data]   Package punkt is already up-to-date!\n",
            "[nltk_data] Downloading package averaged_perceptron_tagger to\n",
            "[nltk_data]     /root/nltk_data...\n",
            "[nltk_data]   Package averaged_perceptron_tagger is already up-to-\n",
            "[nltk_data]       date!\n",
            "[nltk_data] Downloading package maxent_ne_chunker to\n",
            "[nltk_data]     /root/nltk_data...\n",
            "[nltk_data]   Package maxent_ne_chunker is already up-to-date!\n",
            "[nltk_data] Downloading package words to /root/nltk_data...\n",
            "[nltk_data]   Package words is already up-to-date!\n"
          ],
          "name": "stdout"
        }
      ]
    },
    {
      "cell_type": "code",
      "metadata": {
        "id": "dbf1a3b8"
      },
      "source": [
        "#Transform our data\n",
        "X_train= transformer.transform(X_train[:10000])\n",
        "X_test = transformer.transform(X_test[:3000])\n",
        "y_train = y_train[:10000]\n",
        "y_test = y_test[:3000]"
      ],
      "id": "dbf1a3b8",
      "execution_count": null,
      "outputs": []
    },
    {
      "cell_type": "markdown",
      "metadata": {
        "id": "767230d8"
      },
      "source": [
        "## Choosing the model"
      ],
      "id": "767230d8"
    },
    {
      "cell_type": "markdown",
      "metadata": {
        "id": "a94efbf0"
      },
      "source": [
        "The plan is to test the accuracy of different models on the same dataset."
      ],
      "id": "a94efbf0"
    },
    {
      "cell_type": "code",
      "metadata": {
        "id": "78a2d56e"
      },
      "source": [
        "from sklearn.metrics import accuracy_score, plot_confusion_matrix\n",
        "from sklearn.pipeline import make_pipeline\n",
        "from sklearn.feature_extraction.text import CountVectorizer, TfidfVectorizer\n",
        "from sklearn.preprocessing import MaxAbsScaler\n"
      ],
      "id": "78a2d56e",
      "execution_count": null,
      "outputs": []
    },
    {
      "cell_type": "markdown",
      "metadata": {
        "id": "5a6b0630"
      },
      "source": [
        "### Logistic Regression"
      ],
      "id": "5a6b0630"
    },
    {
      "cell_type": "code",
      "metadata": {
        "id": "05a62dfd",
        "colab": {
          "base_uri": "https://localhost:8080/",
          "height": 314
        },
        "outputId": "419d6a20-bb1f-4361-c5b0-67930ed969d3"
      },
      "source": [
        "from sklearn.linear_model import LogisticRegression\n",
        "\n",
        "# creating a pipeline for Logistic Regression\n",
        "lr_pipe = make_pipeline(\n",
        "    TfidfVectorizer(),\n",
        "    MaxAbsScaler(),\n",
        "    LogisticRegression()\n",
        ")\n",
        "\n",
        "lr_pipe.fit(X_train, y_train) # fitting the model\n",
        "print(accuracy_score(y_test, lr_pipe.predict(X_test)))\n",
        "\n",
        "plot_confusion_matrix(lr_pipe, X_test, y_test)"
      ],
      "id": "05a62dfd",
      "execution_count": null,
      "outputs": [
        {
          "output_type": "stream",
          "text": [
            "0.8676666666666667\n"
          ],
          "name": "stdout"
        },
        {
          "output_type": "execute_result",
          "data": {
            "text/plain": [
              "<sklearn.metrics._plot.confusion_matrix.ConfusionMatrixDisplay at 0x7f488d4d71d0>"
            ]
          },
          "metadata": {
            "tags": []
          },
          "execution_count": 10
        },
        {
          "output_type": "display_data",
          "data": {
            "image/png": "[encoded data removed]",
            "text/plain": [
              "<Figure size 432x288 with 2 Axes>"
            ]
          },
          "metadata": {
            "tags": [],
            "needs_background": "light"
          }
        }
      ]
    },
    {
      "cell_type": "markdown",
      "metadata": {
        "id": "b7424754"
      },
      "source": [
        "### NB models"
      ],
      "id": "b7424754"
    },
    {
      "cell_type": "code",
      "metadata": {
        "id": "f51564ae",
        "colab": {
          "base_uri": "https://localhost:8080/",
          "height": 927
        },
        "outputId": "244ebdb7-7e61-4b5d-ff50-9cfd6e63ba3a"
      },
      "source": [
        "from sklearn.naive_bayes import ComplementNB, BernoulliNB, MultinomialNB\n",
        "\n",
        "cnb_pipe = make_pipeline(\n",
        "    TfidfVectorizer(),\n",
        "    MaxAbsScaler(),\n",
        "    ComplementNB()\n",
        ")\n",
        "\n",
        "bnb_pipe = make_pipeline(\n",
        "    TfidfVectorizer(),\n",
        "    MaxAbsScaler(),\n",
        "    BernoulliNB()\n",
        ")\n",
        "\n",
        "mnb_pipe = make_pipeline(\n",
        "    TfidfVectorizer(),\n",
        "    MaxAbsScaler(),\n",
        "    MultinomialNB()\n",
        ")\n",
        "\n",
        "# fitting the models\n",
        "cnb_pipe.fit(X_train, y_train)\n",
        "print('Complement Naive Bayes')\n",
        "print(accuracy_score(y_test, lr_pipe.predict(X_test)))\n",
        "plot_confusion_matrix(cnb_pipe, X_test, y_test)\n",
        "\n",
        "bnb_pipe.fit(X_train, y_train)\n",
        "print('Bernoulli Naive Bayes')\n",
        "print(accuracy_score(y_test, lr_pipe.predict(X_test)))\n",
        "plot_confusion_matrix(bnb_pipe, X_test, y_test)\n",
        "\n",
        "mnb_pipe.fit(X_train, y_train)\n",
        "print('Multinomial Naive Bayes')\n",
        "print(accuracy_score(y_test, lr_pipe.predict(X_test)))\n",
        "plot_confusion_matrix(mnb_pipe, X_test, y_test)"
      ],
      "id": "f51564ae",
      "execution_count": null,
      "outputs": [
        {
          "output_type": "stream",
          "text": [
            "Complement Naive Bayes\n",
            "0.8676666666666667\n",
            "Bernoulli Naive Bayes\n",
            "0.8676666666666667\n",
            "Multinomial Naive Bayes\n",
            "0.8676666666666667\n"
          ],
          "name": "stdout"
        },
        {
          "output_type": "execute_result",
          "data": {
            "text/plain": [
              "<sklearn.metrics._plot.confusion_matrix.ConfusionMatrixDisplay at 0x7f488479a110>"
            ]
          },
          "metadata": {
            "tags": []
          },
          "execution_count": 11
        },
        {
          "output_type": "display_data",
          "data": {
            "image/png": "[encoded data removed]",
            "text/plain": [
              "<Figure size 432x288 with 2 Axes>"
            ]
          },
          "metadata": {
            "tags": [],
            "needs_background": "light"
          }
        },
        {
          "output_type": "display_data",
          "data": {
            "image/png": "[encoded data removed]",
            "text/plain": [
              "<Figure size 432x288 with 2 Axes>"
            ]
          },
          "metadata": {
            "tags": [],
            "needs_background": "light"
          }
        },
        {
          "output_type": "display_data",
          "data": {
            "image/png": "[encoded data removed]",
            "text/plain": [
              "<Figure size 432x288 with 2 Axes>"
            ]
          },
          "metadata": {
            "tags": [],
            "needs_background": "light"
          }
        }
      ]
    },
    {
      "cell_type": "markdown",
      "metadata": {
        "id": "c02c3fb8"
      },
      "source": [
        "### Decision Tree"
      ],
      "id": "c02c3fb8"
    },
    {
      "cell_type": "code",
      "metadata": {
        "id": "1155d0df",
        "colab": {
          "base_uri": "https://localhost:8080/",
          "height": 296
        },
        "outputId": "cc68aee0-92ca-454a-bc69-768f2e2677b9"
      },
      "source": [
        "from sklearn.tree import DecisionTreeClassifier\n",
        "\n",
        "dt_pipe = make_pipeline(\n",
        "    TfidfVectorizer(),\n",
        "    MaxAbsScaler(),\n",
        "    DecisionTreeClassifier(class_weight='balanced')\n",
        ")\n",
        "\n",
        "dt_pipe.fit(X_train, y_train)\n",
        "plot_confusion_matrix(dt_pipe, X_test, y_test)"
      ],
      "id": "1155d0df",
      "execution_count": null,
      "outputs": [
        {
          "output_type": "execute_result",
          "data": {
            "text/plain": [
              "<sklearn.metrics._plot.confusion_matrix.ConfusionMatrixDisplay at 0x7f4884a5f410>"
            ]
          },
          "metadata": {
            "tags": []
          },
          "execution_count": 12
        },
        {
          "output_type": "display_data",
          "data": {
            "image/png": "[encoded data removed]",
            "text/plain": [
              "<Figure size 432x288 with 2 Axes>"
            ]
          },
          "metadata": {
            "tags": [],
            "needs_background": "light"
          }
        }
      ]
    },
    {
      "cell_type": "markdown",
      "metadata": {
        "id": "1da507b7"
      },
      "source": [
        "### K-nearest neighbors"
      ],
      "id": "1da507b7"
    },
    {
      "cell_type": "code",
      "metadata": {
        "id": "960b6fd4",
        "colab": {
          "base_uri": "https://localhost:8080/",
          "height": 296
        },
        "outputId": "ae500d34-f3fc-4be9-c09b-4f473e1b8a51"
      },
      "source": [
        "from sklearn.neighbors import KNeighborsClassifier\n",
        "\n",
        "kn_pipe = make_pipeline(\n",
        "    TfidfVectorizer(),\n",
        "    MaxAbsScaler(),\n",
        "    KNeighborsClassifier()\n",
        ")\n",
        "\n",
        "kn_pipe.fit(X_train, y_train)\n",
        "plot_confusion_matrix(kn_pipe, X_test, y_test)"
      ],
      "id": "960b6fd4",
      "execution_count": null,
      "outputs": [
        {
          "output_type": "execute_result",
          "data": {
            "text/plain": [
              "<sklearn.metrics._plot.confusion_matrix.ConfusionMatrixDisplay at 0x7f4884061950>"
            ]
          },
          "metadata": {
            "tags": []
          },
          "execution_count": 13
        },
        {
          "output_type": "display_data",
          "data": {
            "image/png": "[encoded data removed]",
            "text/plain": [
              "<Figure size 432x288 with 2 Axes>"
            ]
          },
          "metadata": {
            "tags": [],
            "needs_background": "light"
          }
        }
      ]
    },
    {
      "cell_type": "markdown",
      "metadata": {
        "id": "fa882ae8"
      },
      "source": [
        "### Perceptron"
      ],
      "id": "fa882ae8"
    },
    {
      "cell_type": "code",
      "metadata": {
        "id": "3d845371",
        "colab": {
          "base_uri": "https://localhost:8080/",
          "height": 296
        },
        "outputId": "c79f9e6b-83b6-49ef-bbde-9f2c65680b87"
      },
      "source": [
        "from sklearn.linear_model import Perceptron\n",
        "\n",
        "p_pipe = make_pipeline(\n",
        "    TfidfVectorizer(),\n",
        "    MaxAbsScaler(),\n",
        "    Perceptron()\n",
        ")\n",
        "\n",
        "p_pipe.fit(X_train, y_train)\n",
        "plot_confusion_matrix(p_pipe, X_test, y_test)"
      ],
      "id": "3d845371",
      "execution_count": null,
      "outputs": [
        {
          "output_type": "execute_result",
          "data": {
            "text/plain": [
              "<sklearn.metrics._plot.confusion_matrix.ConfusionMatrixDisplay at 0x7f488475cb90>"
            ]
          },
          "metadata": {
            "tags": []
          },
          "execution_count": 14
        },
        {
          "output_type": "display_data",
          "data": {
            "image/png": "[encoded data removed]",
            "text/plain": [
              "<Figure size 432x288 with 2 Axes>"
            ]
          },
          "metadata": {
            "tags": [],
            "needs_background": "light"
          }
        }
      ]
    },
    {
      "cell_type": "code",
      "metadata": {
        "colab": {
          "base_uri": "https://localhost:8080/",
          "height": 296
        },
        "id": "h2kXcCi-wVY7",
        "outputId": "45a576bd-bdd5-4a71-a990-ffc86b0f3745"
      },
      "source": [
        "from sklearn.svm import SVC\n",
        "\n",
        "svm_pipe = make_pipeline(\n",
        "    TfidfVectorizer(),\n",
        "    MaxAbsScaler(),\n",
        "    SVC()\n",
        ")\n",
        "\n",
        "svm_pipe.fit(X_train, y_train)\n",
        "plot_confusion_matrix(svm_pipe, X_test, y_test)"
      ],
      "id": "h2kXcCi-wVY7",
      "execution_count": null,
      "outputs": [
        {
          "output_type": "execute_result",
          "data": {
            "text/plain": [
              "<sklearn.metrics._plot.confusion_matrix.ConfusionMatrixDisplay at 0x7f4883b41410>"
            ]
          },
          "metadata": {
            "tags": []
          },
          "execution_count": 15
        },
        {
          "output_type": "display_data",
          "data": {
            "image/png": "[encoded data removed]",
            "text/plain": [
              "<Figure size 432x288 with 2 Axes>"
            ]
          },
          "metadata": {
            "tags": [],
            "needs_background": "light"
          }
        }
      ]
    },
    {
      "cell_type": "markdown",
      "metadata": {
        "id": "4dfce314"
      },
      "source": [
        "### Support Vector Machine"
      ],
      "id": "4dfce314"
    },
    {
      "cell_type": "markdown",
      "metadata": {
        "id": "82e49164"
      },
      "source": [
        "\n",
        "\n",
        "\n",
        "## Comparing accuracy scores"
      ],
      "id": "82e49164"
    },
    {
      "cell_type": "code",
      "metadata": {
        "id": "f9ca0072",
        "colab": {
          "base_uri": "https://localhost:8080/",
          "height": 94
        },
        "outputId": "18f0cb24-63e4-467d-c518-d8561f14d324"
      },
      "source": [
        "# getting the accuracy scores for every model\n",
        "scores = {\n",
        "    'Logistic Regression': [accuracy_score(y_test, lr_pipe.predict(X_test))],\n",
        "    'Complement NB': [accuracy_score(y_test, cnb_pipe.predict(X_test))],\n",
        "    'Bernoulli NB': [accuracy_score(y_test, bnb_pipe.predict(X_test))],\n",
        "    'Multinomail Regression': [accuracy_score(y_test, mnb_pipe.predict(X_test))],\n",
        "    'Decision Tree': [accuracy_score(y_test, dt_pipe.predict(X_test))],\n",
        "    'K-nearest neighbors': [accuracy_score(y_test, kn_pipe.predict(X_test))],\n",
        "    'Perceptron': [accuracy_score(y_test, p_pipe.predict(X_test))],\n",
        "    'SVM': [accuracy_score(y_test, svm_pipe.predict(X_test))]\n",
        "}\n",
        "\n",
        "# creating a DataFrame from the scores dictionary\n",
        "scores_df = pd.DataFrame.from_dict(scores)\n",
        "scores_df"
      ],
      "id": "f9ca0072",
      "execution_count": null,
      "outputs": [
        {
          "output_type": "execute_result",
          "data": {
            "text/html": [
              "<div>\n",
              "<style scoped>\n",
              "    .dataframe tbody tr th:only-of-type {\n",
              "        vertical-align: middle;\n",
              "    }\n",
              "\n",
              "    .dataframe tbody tr th {\n",
              "        vertical-align: top;\n",
              "    }\n",
              "\n",
              "    .dataframe thead th {\n",
              "        text-align: right;\n",
              "    }\n",
              "</style>\n",
              "<table border=\"1\" class=\"dataframe\">\n",
              "  <thead>\n",
              "    <tr style=\"text-align: right;\">\n",
              "      <th></th>\n",
              "      <th>Logistic Regression</th>\n",
              "      <th>Complement NB</th>\n",
              "      <th>Bernoulli NB</th>\n",
              "      <th>Multinomail Regression</th>\n",
              "      <th>Decision Tree</th>\n",
              "      <th>K-nearest neighbors</th>\n",
              "      <th>Perceptron</th>\n",
              "      <th>SVM</th>\n",
              "    </tr>\n",
              "  </thead>\n",
              "  <tbody>\n",
              "    <tr>\n",
              "      <th>0</th>\n",
              "      <td>0.867667</td>\n",
              "      <td>0.835667</td>\n",
              "      <td>0.704333</td>\n",
              "      <td>0.835667</td>\n",
              "      <td>0.786333</td>\n",
              "      <td>0.525667</td>\n",
              "      <td>0.834333</td>\n",
              "      <td>0.812333</td>\n",
              "    </tr>\n",
              "  </tbody>\n",
              "</table>\n",
              "</div>"
            ],
            "text/plain": [
              "   Logistic Regression  Complement NB  ...  Perceptron       SVM\n",
              "0             0.867667       0.835667  ...    0.834333  0.812333\n",
              "\n",
              "[1 rows x 8 columns]"
            ]
          },
          "metadata": {
            "tags": []
          },
          "execution_count": 16
        }
      ]
    },
    {
      "cell_type": "code",
      "metadata": {
        "id": "2bee23d6",
        "colab": {
          "base_uri": "https://localhost:8080/",
          "height": 35
        },
        "outputId": "685ae173-5fb4-457b-b704-0a4d29567594"
      },
      "source": [
        "# finding the best accuracy\n",
        "model_name = scores_df.idxmax(axis=1)[0]\n",
        "f'{model_name} : {scores_df[model_name][0]}'"
      ],
      "id": "2bee23d6",
      "execution_count": null,
      "outputs": [
        {
          "output_type": "execute_result",
          "data": {
            "application/vnd.google.colaboratory.intrinsic+json": {
              "type": "string"
            },
            "text/plain": [
              "'Logistic Regression : 0.8676666666666667'"
            ]
          },
          "metadata": {
            "tags": []
          },
          "execution_count": 17
        }
      ]
    },
    {
      "cell_type": "code",
      "metadata": {
        "id": "bf7f74cf",
        "colab": {
          "base_uri": "https://localhost:8080/"
        },
        "outputId": "4f42181d-0cd1-4cb7-8a11-bf70175990d5"
      },
      "source": [
        "from sklearn.metrics import classification_report\n",
        "\n",
        "print(classification_report(y_test, lr_pipe.predict(X_test))) "
      ],
      "id": "bf7f74cf",
      "execution_count": null,
      "outputs": [
        {
          "output_type": "stream",
          "text": [
            "              precision    recall  f1-score   support\n",
            "\n",
            "           0       0.87      0.87      0.87      1482\n",
            "           1       0.87      0.87      0.87      1518\n",
            "\n",
            "    accuracy                           0.87      3000\n",
            "   macro avg       0.87      0.87      0.87      3000\n",
            "weighted avg       0.87      0.87      0.87      3000\n",
            "\n"
          ],
          "name": "stdout"
        }
      ]
    },
    {
      "cell_type": "code",
      "metadata": {
        "id": "699b36b5",
        "colab": {
          "base_uri": "https://localhost:8080/"
        },
        "outputId": "cc8177c8-1f61-472b-f7c6-525958d0ec3e"
      },
      "source": [
        "from sklearn import metrics\n",
        "import numpy as np\n",
        "\n",
        "print('Mean Absolute Error:', metrics.mean_absolute_error(y_test, lr_pipe.predict(X_test)))\n",
        "print('Mean Squared Error:', metrics.mean_squared_error(y_test, lr_pipe.predict(X_test)))\n",
        "print('Root Mean Squared Error:', np.sqrt(metrics.mean_squared_error(y_test, lr_pipe.predict(X_test))))"
      ],
      "id": "699b36b5",
      "execution_count": null,
      "outputs": [
        {
          "output_type": "stream",
          "text": [
            "Mean Absolute Error: 0.13233333333333333\n",
            "Mean Squared Error: 0.13233333333333333\n",
            "Root Mean Squared Error: 0.36377648815355473\n"
          ],
          "name": "stdout"
        }
      ]
    },
    {
      "cell_type": "code",
      "metadata": {
        "id": "mXxzj1_lQ7T3"
      },
      "source": [
        ""
      ],
      "id": "mXxzj1_lQ7T3",
      "execution_count": null,
      "outputs": []
    }
  ]
}
