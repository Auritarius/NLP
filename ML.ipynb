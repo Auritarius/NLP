{
  "nbformat": 4,
  "nbformat_minor": 5,
  "metadata": {
    "kernelspec": {
      "name": "python3",
      "display_name": "Python 3"
    },
    "colab": {
      "name": "ML.ipynb",
      "provenance": []
    },
    "language_info": {
      "name": "python"
    },
    "accelerator": "GPU"
  },
  "cells": [
    {
      "cell_type": "code",
      "metadata": {
        "id": "b8bf27b0"
      },
      "source": [
        "import pandas as pd\n",
        "from collections import Counter\n",
        "from sklearn.datasets import make_classification\n",
        "from imblearn.under_sampling import RandomUnderSampler\n",
        "import numpy as np\n",
        "from sklearn.model_selection import train_test_split\n",
        "\n",
        "\n",
        "# getting the dataset from files\n",
        "train_df = pd.read_csv('/content/drive/MyDrive/Programarea-mea/NLP/Project/Datasets/Toxic_dataset/toxic_train.csv')\n",
        "test_df = pd.read_csv('/content/drive/MyDrive/Programarea-mea/NLP/Project/Datasets/Toxic_dataset/toxic_test.csv')\n",
        "\n",
        "#Merging datasets\n",
        "df = pd.concat([train_df,test_df ])\n",
        "df = df.drop(columns=['Unnamed: 0'])"
      ],
      "id": "b8bf27b0",
      "execution_count": null,
      "outputs": []
    },
    {
      "cell_type": "code",
      "metadata": {
        "colab": {
          "base_uri": "https://localhost:8080/",
          "height": 406
        },
        "id": "6AuurXVSMzrq",
        "outputId": "aa3b42a3-c0b6-49c5-ddef-bb4d30ed6083"
      },
      "source": [
        "df"
      ],
      "id": "6AuurXVSMzrq",
      "execution_count": null,
      "outputs": [
        {
          "output_type": "execute_result",
          "data": {
            "text/html": [
              "<div>\n",
              "<style scoped>\n",
              "    .dataframe tbody tr th:only-of-type {\n",
              "        vertical-align: middle;\n",
              "    }\n",
              "\n",
              "    .dataframe tbody tr th {\n",
              "        vertical-align: top;\n",
              "    }\n",
              "\n",
              "    .dataframe thead th {\n",
              "        text-align: right;\n",
              "    }\n",
              "</style>\n",
              "<table border=\"1\" class=\"dataframe\">\n",
              "  <thead>\n",
              "    <tr style=\"text-align: right;\">\n",
              "      <th></th>\n",
              "      <th>comment_text</th>\n",
              "      <th>toxic</th>\n",
              "    </tr>\n",
              "  </thead>\n",
              "  <tbody>\n",
              "    <tr>\n",
              "      <th>0</th>\n",
              "      <td>Explanation\\r\\nWhy the edits made under my use...</td>\n",
              "      <td>0</td>\n",
              "    </tr>\n",
              "    <tr>\n",
              "      <th>1</th>\n",
              "      <td>D'aww! He matches this background colour I'm s...</td>\n",
              "      <td>0</td>\n",
              "    </tr>\n",
              "    <tr>\n",
              "      <th>2</th>\n",
              "      <td>Hey man, I'm really not trying to edit war. It...</td>\n",
              "      <td>0</td>\n",
              "    </tr>\n",
              "    <tr>\n",
              "      <th>3</th>\n",
              "      <td>\"\\r\\nMore\\r\\nI can't make any real suggestions...</td>\n",
              "      <td>0</td>\n",
              "    </tr>\n",
              "    <tr>\n",
              "      <th>4</th>\n",
              "      <td>You, sir, are my hero. Any chance you remember...</td>\n",
              "      <td>0</td>\n",
              "    </tr>\n",
              "    <tr>\n",
              "      <th>...</th>\n",
              "      <td>...</td>\n",
              "      <td>...</td>\n",
              "    </tr>\n",
              "    <tr>\n",
              "      <th>63973</th>\n",
              "      <td>:Jerome, I see you never got around to this…! ...</td>\n",
              "      <td>0</td>\n",
              "    </tr>\n",
              "    <tr>\n",
              "      <th>63974</th>\n",
              "      <td>==Lucky bastard== \\r\\n http://wikimediafoundat...</td>\n",
              "      <td>0</td>\n",
              "    </tr>\n",
              "    <tr>\n",
              "      <th>63975</th>\n",
              "      <td>==shame on you all!!!== \\r\\n\\r\\n You want to s...</td>\n",
              "      <td>0</td>\n",
              "    </tr>\n",
              "    <tr>\n",
              "      <th>63976</th>\n",
              "      <td>MEL GIBSON IS A NAZI BITCH WHO MAKES SHITTY MO...</td>\n",
              "      <td>1</td>\n",
              "    </tr>\n",
              "    <tr>\n",
              "      <th>63977</th>\n",
              "      <td>\" \\r\\n\\r\\n == Unicorn lair discovery == \\r\\n\\r...</td>\n",
              "      <td>0</td>\n",
              "    </tr>\n",
              "  </tbody>\n",
              "</table>\n",
              "<p>223549 rows × 2 columns</p>\n",
              "</div>"
            ],
            "text/plain": [
              "                                            comment_text  toxic\n",
              "0      Explanation\\r\\nWhy the edits made under my use...      0\n",
              "1      D'aww! He matches this background colour I'm s...      0\n",
              "2      Hey man, I'm really not trying to edit war. It...      0\n",
              "3      \"\\r\\nMore\\r\\nI can't make any real suggestions...      0\n",
              "4      You, sir, are my hero. Any chance you remember...      0\n",
              "...                                                  ...    ...\n",
              "63973  :Jerome, I see you never got around to this…! ...      0\n",
              "63974  ==Lucky bastard== \\r\\n http://wikimediafoundat...      0\n",
              "63975  ==shame on you all!!!== \\r\\n\\r\\n You want to s...      0\n",
              "63976  MEL GIBSON IS A NAZI BITCH WHO MAKES SHITTY MO...      1\n",
              "63977  \" \\r\\n\\r\\n == Unicorn lair discovery == \\r\\n\\r...      0\n",
              "\n",
              "[223549 rows x 2 columns]"
            ]
          },
          "metadata": {
            "tags": []
          },
          "execution_count": 16
        }
      ]
    },
    {
      "cell_type": "code",
      "metadata": {
        "id": "4h7dpbzwkylv"
      },
      "source": [
        "# Balancing data \n",
        "df_toxic  = df[df['toxic']==1]\n",
        "df_non_toxic = df[df['toxic']==0]\n",
        "\n",
        "lenght = len(df_toxic)\n",
        "\n",
        "df_balanced = pd.concat([df_toxic, df_non_toxic.iloc[:lenght]]).sample(frac=1)"
      ],
      "id": "4h7dpbzwkylv",
      "execution_count": null,
      "outputs": []
    },
    {
      "cell_type": "code",
      "metadata": {
        "id": "QZQlMyCanZgg"
      },
      "source": [
        "# number of values of the toxic column (target)\n",
        "X = df_balanced['comment_text']\n",
        "X = X.to_list()\n",
        "y = df_balanced['toxic']"
      ],
      "id": "QZQlMyCanZgg",
      "execution_count": null,
      "outputs": []
    },
    {
      "cell_type": "code",
      "metadata": {
        "id": "a-wDzgpGPhkv",
        "colab": {
          "base_uri": "https://localhost:8080/"
        },
        "outputId": "9201a887-4077-4ac8-d3e5-6e27c426c9a8"
      },
      "source": [
        "y.value_counts()"
      ],
      "id": "a-wDzgpGPhkv",
      "execution_count": null,
      "outputs": [
        {
          "output_type": "execute_result",
          "data": {
            "text/plain": [
              "1    21384\n",
              "0    21384\n",
              "Name: toxic, dtype: int64"
            ]
          },
          "metadata": {
            "tags": []
          },
          "execution_count": 19
        }
      ]
    },
    {
      "cell_type": "markdown",
      "metadata": {
        "id": "c72b7d1f"
      },
      "source": [
        "## Preprocessing"
      ],
      "id": "c72b7d1f"
    },
    {
      "cell_type": "markdown",
      "metadata": {
        "id": "5d9ae3cb"
      },
      "source": [
        "### Creating a transformer for preprocessing text data"
      ],
      "id": "5d9ae3cb"
    },
    {
      "cell_type": "code",
      "metadata": {
        "id": "8587d72b"
      },
      "source": [
        "from sklearn.base import BaseEstimator, TransformerMixin # a transformer enherits these classes\n",
        "\n",
        "import nltk\n",
        "from nltk.probability import FreqDist\n",
        "from nltk.tokenize import word_tokenize, sent_tokenize\n",
        "\n",
        "import re\n",
        "\n",
        "# transformer class\n",
        "class TextTransformer(BaseEstimator, TransformerMixin):\n",
        "    def __init__(self, stopwords, stemmer):\n",
        "        super().__init__()\n",
        "        self.stopwords = stopwords\n",
        "        self.stemmer = stemmer\n",
        "        self.hapaxes = []\n",
        "        self.named_entities = []\n",
        "    \n",
        "    # by default a transformer's fit method just returns self\n",
        "    def fit(self, X, y=None):\n",
        "        return self\n",
        "    \n",
        "    def transform(self, X, y=None):\n",
        "        # for every text in the X list transform its data\n",
        "        for i, sample in enumerate(X):\n",
        "            X[i] = self.__normalize(sample)\n",
        "            X[i] = self.__eliminate_stopwords(X[i])\n",
        "            X[i] = self.__get_hapaxes(X[i])\n",
        "            X[i] = self.__stem(X[i])\n",
        "            self.__named_entity_extraction(X[i])\n",
        "        \n",
        "        # return the transformed text list\n",
        "        return X\n",
        "\n",
        "    def __normalize(self, text):\n",
        "        # select only the words, make them lowercase and eliminate \\r and \\n\n",
        "        return ' '.join(re.findall('[a-zA-Z]+', text.lower().replace(r'\\r', ' ').replace(r'\\n', ' ')))\n",
        "    \n",
        "    def __eliminate_stopwords(self, text):\n",
        "        if self.stopwords is not None:\n",
        "            return ''.join([word for word in text if word not in self.stopwords])\n",
        "    \n",
        "    def __get_hapaxes(self, text, eliminate=True):\n",
        "        # getting the hapaxes\n",
        "        fd = FreqDist(word_tokenize(text))\n",
        "        self.hapaxes.append(fd.hapaxes())\n",
        "                       \n",
        "        # eliminating the hapaxes if needed (by default: needed)\n",
        "        if eliminate:\n",
        "            text = ''.join([word for word in text if word not in self.hapaxes])\n",
        "        \n",
        "        return text\n",
        "    \n",
        "    def __stem(self, text):\n",
        "        return ' '.join([self.stemmer.stem(word) for word in word_tokenize(text)])\n",
        "    \n",
        "    def __named_entity_extraction(self, text):\n",
        "        # tokenize text's sentences\n",
        "        for sent in sent_tokenize(text):\n",
        "            # get the part-of-speech tags of every token of the current sentence\n",
        "            for chunk in nltk.ne_chunk(nltk.pos_tag(word_tokenize(sent))):\n",
        "                # store named entities\n",
        "                if hasattr(chunk, 'label'):\n",
        "                    self.named_entities.append(chunk)"
      ],
      "id": "8587d72b",
      "execution_count": null,
      "outputs": []
    },
    {
      "cell_type": "markdown",
      "metadata": {
        "id": "d5865d8d"
      },
      "source": [
        "### Using the transformer to preprocess the training text"
      ],
      "id": "d5865d8d"
    },
    {
      "cell_type": "code",
      "metadata": {
        "id": "9d085c16",
        "colab": {
          "base_uri": "https://localhost:8080/"
        },
        "outputId": "edbaf13b-04aa-4475-fddc-e97ea55928fe"
      },
      "source": [
        "from nltk.stem import PorterStemmer\n",
        "from nltk.corpus import stopwords\n",
        "import nltk\n",
        "nltk.download('stopwords')\n",
        "nltk.download('punkt')\n",
        "nltk.download('averaged_perceptron_tagger')\n",
        "nltk.download('maxent_ne_chunker')\n",
        "nltk.download('words')\n",
        "stopwords = stopwords.words('english')\n",
        "\n",
        "# create an instance of the transformer class\n",
        "\n",
        "transformer = TextTransformer(stopwords=['and', 'for', 'in', 'about', 'for', 'as', 'the'], stemmer=PorterStemmer())"
      ],
      "id": "9d085c16",
      "execution_count": null,
      "outputs": [
        {
          "output_type": "stream",
          "text": [
            "[nltk_data] Downloading package stopwords to /root/nltk_data...\n",
            "[nltk_data]   Package stopwords is already up-to-date!\n",
            "[nltk_data] Downloading package punkt to /root/nltk_data...\n",
            "[nltk_data]   Package punkt is already up-to-date!\n",
            "[nltk_data] Downloading package averaged_perceptron_tagger to\n",
            "[nltk_data]     /root/nltk_data...\n",
            "[nltk_data]   Package averaged_perceptron_tagger is already up-to-\n",
            "[nltk_data]       date!\n",
            "[nltk_data] Downloading package maxent_ne_chunker to\n",
            "[nltk_data]     /root/nltk_data...\n",
            "[nltk_data]   Package maxent_ne_chunker is already up-to-date!\n",
            "[nltk_data] Downloading package words to /root/nltk_data...\n",
            "[nltk_data]   Package words is already up-to-date!\n"
          ],
          "name": "stdout"
        }
      ]
    },
    {
      "cell_type": "code",
      "metadata": {
        "id": "UZqss6eq0Dph"
      },
      "source": [
        "X_train, X_test, y_train, y_test = train_test_split( X, y, test_size=0.33, random_state=42)"
      ],
      "id": "UZqss6eq0Dph",
      "execution_count": null,
      "outputs": []
    },
    {
      "cell_type": "code",
      "metadata": {
        "id": "dbf1a3b8"
      },
      "source": [
        "#Transform our data\n",
        "X_train= transformer.transform(X_train)\n",
        "X_test = transformer.transform(X_test)\n",
        "y_train = y_train\n",
        "y_test = y_test"
      ],
      "id": "dbf1a3b8",
      "execution_count": null,
      "outputs": []
    },
    {
      "cell_type": "markdown",
      "metadata": {
        "id": "767230d8"
      },
      "source": [
        "## Choosing the model"
      ],
      "id": "767230d8"
    },
    {
      "cell_type": "markdown",
      "metadata": {
        "id": "a94efbf0"
      },
      "source": [
        "The plan is to test the accuracy of different models on the same dataset."
      ],
      "id": "a94efbf0"
    },
    {
      "cell_type": "code",
      "metadata": {
        "id": "78a2d56e"
      },
      "source": [
        "from sklearn.metrics import accuracy_score, plot_confusion_matrix\n",
        "from sklearn.pipeline import make_pipeline\n",
        "from sklearn.feature_extraction.text import CountVectorizer, TfidfVectorizer\n",
        "from sklearn.preprocessing import MaxAbsScaler\n"
      ],
      "id": "78a2d56e",
      "execution_count": null,
      "outputs": []
    },
    {
      "cell_type": "markdown",
      "metadata": {
        "id": "5a6b0630"
      },
      "source": [
        "### Logistic Regression"
      ],
      "id": "5a6b0630"
    },
    {
      "cell_type": "code",
      "metadata": {
        "id": "05a62dfd",
        "colab": {
          "base_uri": "https://localhost:8080/",
          "height": 476
        },
        "outputId": "8fcf121b-15d9-4665-904b-228d1b23fb62"
      },
      "source": [
        "from sklearn.linear_model import LogisticRegression\n",
        "\n",
        "# creating a pipeline for Logistic Regression\n",
        "lr_pipe = make_pipeline(\n",
        "    TfidfVectorizer(),\n",
        "    MaxAbsScaler(),\n",
        "    LogisticRegression()\n",
        ")\n",
        "\n",
        "lr_pipe.fit(X_train, y_train) # fitting the model\n",
        "print(accuracy_score(y_test, lr_pipe.predict(X_test)))\n",
        "\n",
        "plot_confusion_matrix(lr_pipe, X_test, y_test)"
      ],
      "id": "05a62dfd",
      "execution_count": null,
      "outputs": [
        {
          "output_type": "stream",
          "text": [
            "/usr/local/lib/python3.7/dist-packages/sklearn/linear_model/_logistic.py:940: ConvergenceWarning: lbfgs failed to converge (status=1):\n",
            "STOP: TOTAL NO. of ITERATIONS REACHED LIMIT.\n",
            "\n",
            "Increase the number of iterations (max_iter) or scale the data as shown in:\n",
            "    https://scikit-learn.org/stable/modules/preprocessing.html\n",
            "Please also refer to the documentation for alternative solver options:\n",
            "    https://scikit-learn.org/stable/modules/linear_model.html#logistic-regression\n",
            "  extra_warning_msg=_LOGISTIC_SOLVER_CONVERGENCE_MSG)\n"
          ],
          "name": "stderr"
        },
        {
          "output_type": "stream",
          "text": [
            "0.9003117472013603\n"
          ],
          "name": "stdout"
        },
        {
          "output_type": "execute_result",
          "data": {
            "text/plain": [
              "<sklearn.metrics._plot.confusion_matrix.ConfusionMatrixDisplay at 0x7f1a9dad5250>"
            ]
          },
          "metadata": {
            "tags": []
          },
          "execution_count": 25
        },
        {
          "output_type": "display_data",
          "data": {
            "image/png": "[encoded data removed]",
            "text/plain": [
              "<Figure size 432x288 with 2 Axes>"
            ]
          },
          "metadata": {
            "tags": [],
            "needs_background": "light"
          }
        }
      ]
    },
    {
      "cell_type": "markdown",
      "metadata": {
        "id": "b7424754"
      },
      "source": [
        "### NB models"
      ],
      "id": "b7424754"
    },
    {
      "cell_type": "code",
      "metadata": {
        "id": "f51564ae",
        "colab": {
          "base_uri": "https://localhost:8080/",
          "height": 874
        },
        "outputId": "0fe26371-98d1-4ff7-cff9-8927ae8d8982"
      },
      "source": [
        "from sklearn.naive_bayes import ComplementNB, BernoulliNB, MultinomialNB\n",
        "\n",
        "cnb_pipe = make_pipeline(\n",
        "    TfidfVectorizer(),\n",
        "    MaxAbsScaler(),\n",
        "    ComplementNB()\n",
        ")\n",
        "\n",
        "bnb_pipe = make_pipeline(\n",
        "    TfidfVectorizer(),\n",
        "    MaxAbsScaler(),\n",
        "    BernoulliNB()\n",
        ")\n",
        "\n",
        "mnb_pipe = make_pipeline(\n",
        "    TfidfVectorizer(),\n",
        "    MaxAbsScaler(),\n",
        "    MultinomialNB()\n",
        ")\n",
        "\n",
        "# fitting the models\n",
        "cnb_pipe.fit(X_train, y_train)\n",
        "print('Complement Naive Bayes')\n",
        "\n",
        "plot_confusion_matrix(cnb_pipe, X_test, y_test)\n",
        "\n",
        "bnb_pipe.fit(X_train, y_train)\n",
        "print('Bernoulli Naive Bayes')\n",
        "\n",
        "plot_confusion_matrix(bnb_pipe, X_test, y_test)\n",
        "\n",
        "mnb_pipe.fit(X_train, y_train)\n",
        "print('Multinomial Naive Bayes')\n",
        "\n",
        "plot_confusion_matrix(mnb_pipe, X_test, y_test)"
      ],
      "id": "f51564ae",
      "execution_count": null,
      "outputs": [
        {
          "output_type": "stream",
          "text": [
            "Complement Naive Bayes\n",
            "Bernoulli Naive Bayes\n",
            "Multinomial Naive Bayes\n"
          ],
          "name": "stdout"
        },
        {
          "output_type": "execute_result",
          "data": {
            "text/plain": [
              "<sklearn.metrics._plot.confusion_matrix.ConfusionMatrixDisplay at 0x7f1a9d5fc5d0>"
            ]
          },
          "metadata": {
            "tags": []
          },
          "execution_count": 26
        },
        {
          "output_type": "display_data",
          "data": {
            "image/png": "[encoded data removed]",
            "text/plain": [
              "<Figure size 432x288 with 2 Axes>"
            ]
          },
          "metadata": {
            "tags": [],
            "needs_background": "light"
          }
        },
        {
          "output_type": "display_data",
          "data": {
            "image/png": "[encoded data removed]",
            "text/plain": [
              "<Figure size 432x288 with 2 Axes>"
            ]
          },
          "metadata": {
            "tags": [],
            "needs_background": "light"
          }
        },
        {
          "output_type": "display_data",
          "data": {
            "image/png": "[encoded data removed]",
            "text/plain": [
              "<Figure size 432x288 with 2 Axes>"
            ]
          },
          "metadata": {
            "tags": [],
            "needs_background": "light"
          }
        }
      ]
    },
    {
      "cell_type": "markdown",
      "metadata": {
        "id": "c02c3fb8"
      },
      "source": [
        "### Decision Tree"
      ],
      "id": "c02c3fb8"
    },
    {
      "cell_type": "code",
      "metadata": {
        "id": "1155d0df",
        "colab": {
          "base_uri": "https://localhost:8080/",
          "height": 296
        },
        "outputId": "4de4f54b-f1d9-4ebc-a050-95ffbc12e6e8"
      },
      "source": [
        "from sklearn.ensemble import RandomForestClassifier\n",
        "\n",
        "rf_pipe = make_pipeline(\n",
        "    TfidfVectorizer(),\n",
        "    MaxAbsScaler(),\n",
        "    RandomForestClassifier(),\n",
        ")\n",
        "\n",
        "rf_pipe.fit(X_train, y_train)\n",
        "plot_confusion_matrix(rf_pipe, X_test, y_test)"
      ],
      "id": "1155d0df",
      "execution_count": null,
      "outputs": [
        {
          "output_type": "execute_result",
          "data": {
            "text/plain": [
              "<sklearn.metrics._plot.confusion_matrix.ConfusionMatrixDisplay at 0x7f1a9d556210>"
            ]
          },
          "metadata": {
            "tags": []
          },
          "execution_count": 28
        },
        {
          "output_type": "display_data",
          "data": {
            "image/png": "[encoded data removed]",
            "text/plain": [
              "<Figure size 432x288 with 2 Axes>"
            ]
          },
          "metadata": {
            "tags": [],
            "needs_background": "light"
          }
        }
      ]
    },
    {
      "cell_type": "markdown",
      "metadata": {
        "id": "1da507b7"
      },
      "source": [
        "### K-nearest neighbors"
      ],
      "id": "1da507b7"
    },
    {
      "cell_type": "code",
      "metadata": {
        "id": "960b6fd4",
        "colab": {
          "base_uri": "https://localhost:8080/",
          "height": 296
        },
        "outputId": "15854ef6-4641-4f22-a0bc-03160d8d456b"
      },
      "source": [
        "from sklearn.neighbors import KNeighborsClassifier\n",
        "\n",
        "kn_pipe = make_pipeline(\n",
        "    TfidfVectorizer(),\n",
        "    MaxAbsScaler(),\n",
        "    KNeighborsClassifier()\n",
        ")\n",
        "\n",
        "kn_pipe.fit(X_train, y_train)\n",
        "plot_confusion_matrix(kn_pipe, X_test, y_test)"
      ],
      "id": "960b6fd4",
      "execution_count": null,
      "outputs": [
        {
          "output_type": "execute_result",
          "data": {
            "text/plain": [
              "<sklearn.metrics._plot.confusion_matrix.ConfusionMatrixDisplay at 0x7f1a940c3410>"
            ]
          },
          "metadata": {
            "tags": []
          },
          "execution_count": 29
        },
        {
          "output_type": "display_data",
          "data": {
            "image/png": "[encoded data removed]",
            "text/plain": [
              "<Figure size 432x288 with 2 Axes>"
            ]
          },
          "metadata": {
            "tags": [],
            "needs_background": "light"
          }
        }
      ]
    },
    {
      "cell_type": "markdown",
      "metadata": {
        "id": "fa882ae8"
      },
      "source": [
        "### Perceptron"
      ],
      "id": "fa882ae8"
    },
    {
      "cell_type": "code",
      "metadata": {
        "id": "3d845371",
        "colab": {
          "base_uri": "https://localhost:8080/",
          "height": 296
        },
        "outputId": "cab86d8c-1a2a-4a72-b844-8d387d874a77"
      },
      "source": [
        "from sklearn.linear_model import Perceptron\n",
        "\n",
        "p_pipe = make_pipeline(\n",
        "    TfidfVectorizer(),\n",
        "    MaxAbsScaler(),\n",
        "    Perceptron()\n",
        ")\n",
        "\n",
        "p_pipe.fit(X_train, y_train)\n",
        "plot_confusion_matrix(p_pipe, X_test, y_test)"
      ],
      "id": "3d845371",
      "execution_count": null,
      "outputs": [
        {
          "output_type": "execute_result",
          "data": {
            "text/plain": [
              "<sklearn.metrics._plot.confusion_matrix.ConfusionMatrixDisplay at 0x7f1a93aa4610>"
            ]
          },
          "metadata": {
            "tags": []
          },
          "execution_count": 30
        },
        {
          "output_type": "display_data",
          "data": {
            "image/png": "[encoded data removed]",
            "text/plain": [
              "<Figure size 432x288 with 2 Axes>"
            ]
          },
          "metadata": {
            "tags": [],
            "needs_background": "light"
          }
        }
      ]
    },
    {
      "cell_type": "code",
      "metadata": {
        "colab": {
          "base_uri": "https://localhost:8080/",
          "height": 296
        },
        "id": "h2kXcCi-wVY7",
        "outputId": "6078c752-80f1-4dec-fa97-bc32b5d70db9"
      },
      "source": [
        "from sklearn.svm import SVC\n",
        "\n",
        "svm_pipe = make_pipeline(\n",
        "    TfidfVectorizer(),\n",
        "    MaxAbsScaler(),\n",
        "    SVC()\n",
        ")\n",
        "\n",
        "svm_pipe.fit(X_train, y_train)\n",
        "plot_confusion_matrix(svm_pipe, X_test, y_test)"
      ],
      "id": "h2kXcCi-wVY7",
      "execution_count": null,
      "outputs": [
        {
          "output_type": "execute_result",
          "data": {
            "text/plain": [
              "<sklearn.metrics._plot.confusion_matrix.ConfusionMatrixDisplay at 0x7f1a934c94d0>"
            ]
          },
          "metadata": {
            "tags": []
          },
          "execution_count": 31
        },
        {
          "output_type": "display_data",
          "data": {
            "image/png": "[encoded data removed]",
            "text/plain": [
              "<Figure size 432x288 with 2 Axes>"
            ]
          },
          "metadata": {
            "tags": [],
            "needs_background": "light"
          }
        }
      ]
    },
    {
      "cell_type": "markdown",
      "metadata": {
        "id": "4dfce314"
      },
      "source": [
        "### Support Vector Machine"
      ],
      "id": "4dfce314"
    },
    {
      "cell_type": "markdown",
      "metadata": {
        "id": "82e49164"
      },
      "source": [
        "\n",
        "\n",
        "\n",
        "## Comparing accuracy scores"
      ],
      "id": "82e49164"
    },
    {
      "cell_type": "code",
      "metadata": {
        "id": "f9ca0072",
        "colab": {
          "base_uri": "https://localhost:8080/",
          "height": 94
        },
        "outputId": "ccb4fc64-7b33-4349-c83f-f911a0225078"
      },
      "source": [
        "# getting the accuracy scores for every model\n",
        "scores = {\n",
        "    'Logistic Regression': [accuracy_score(y_test, lr_pipe.predict(X_test))],\n",
        "    'Complement NB': [accuracy_score(y_test, cnb_pipe.predict(X_test))],\n",
        "    'Bernoulli NB': [accuracy_score(y_test, bnb_pipe.predict(X_test))],\n",
        "    'Multinomail Regression': [accuracy_score(y_test, mnb_pipe.predict(X_test))],\n",
        "    'Random Forest': [accuracy_score(y_test, rf_pipe.predict(X_test))],\n",
        "    'K-nearest neighbors': [accuracy_score(y_test, kn_pipe.predict(X_test))],\n",
        "    'Perceptron': [accuracy_score(y_test, p_pipe.predict(X_test))],\n",
        "    'SVM': [accuracy_score(y_test, svm_pipe.predict(X_test))]\n",
        "}\n",
        "\n",
        "# creating a DataFrame from the scores dictionary\n",
        "scores_df = pd.DataFrame.from_dict(scores)\n",
        "scores_df"
      ],
      "id": "f9ca0072",
      "execution_count": null,
      "outputs": [
        {
          "output_type": "execute_result",
          "data": {
            "text/html": [
              "<div>\n",
              "<style scoped>\n",
              "    .dataframe tbody tr th:only-of-type {\n",
              "        vertical-align: middle;\n",
              "    }\n",
              "\n",
              "    .dataframe tbody tr th {\n",
              "        vertical-align: top;\n",
              "    }\n",
              "\n",
              "    .dataframe thead th {\n",
              "        text-align: right;\n",
              "    }\n",
              "</style>\n",
              "<table border=\"1\" class=\"dataframe\">\n",
              "  <thead>\n",
              "    <tr style=\"text-align: right;\">\n",
              "      <th></th>\n",
              "      <th>Logistic Regression</th>\n",
              "      <th>Complement NB</th>\n",
              "      <th>Bernoulli NB</th>\n",
              "      <th>Multinomail Regression</th>\n",
              "      <th>Random Forest</th>\n",
              "      <th>K-nearest neighbors</th>\n",
              "      <th>Perceptron</th>\n",
              "      <th>SVM</th>\n",
              "    </tr>\n",
              "  </thead>\n",
              "  <tbody>\n",
              "    <tr>\n",
              "      <th>0</th>\n",
              "      <td>0.900312</td>\n",
              "      <td>0.84859</td>\n",
              "      <td>0.714539</td>\n",
              "      <td>0.848448</td>\n",
              "      <td>0.859501</td>\n",
              "      <td>0.561783</td>\n",
              "      <td>0.867224</td>\n",
              "      <td>0.864532</td>\n",
              "    </tr>\n",
              "  </tbody>\n",
              "</table>\n",
              "</div>"
            ],
            "text/plain": [
              "   Logistic Regression  Complement NB  ...  Perceptron       SVM\n",
              "0             0.900312        0.84859  ...    0.867224  0.864532\n",
              "\n",
              "[1 rows x 8 columns]"
            ]
          },
          "metadata": {
            "tags": []
          },
          "execution_count": 32
        }
      ]
    },
    {
      "cell_type": "code",
      "metadata": {
        "id": "2bee23d6",
        "colab": {
          "base_uri": "https://localhost:8080/",
          "height": 35
        },
        "outputId": "0e6dbf20-46af-424a-af6c-e0e61d8a08ee"
      },
      "source": [
        "# finding the best accuracy\n",
        "model_name = scores_df.idxmax(axis=1)[0]\n",
        "f'{model_name} : {scores_df[model_name][0]}'"
      ],
      "id": "2bee23d6",
      "execution_count": null,
      "outputs": [
        {
          "output_type": "execute_result",
          "data": {
            "application/vnd.google.colaboratory.intrinsic+json": {
              "type": "string"
            },
            "text/plain": [
              "'Logistic Regression : 0.9003117472013603'"
            ]
          },
          "metadata": {
            "tags": []
          },
          "execution_count": 33
        }
      ]
    },
    {
      "cell_type": "code",
      "metadata": {
        "id": "bf7f74cf",
        "colab": {
          "base_uri": "https://localhost:8080/"
        },
        "outputId": "17474a83-1583-4acc-fa1a-c4f77c2c158c"
      },
      "source": [
        "from sklearn.metrics import classification_report\n",
        "\n",
        "print(classification_report(y_test, lr_pipe.predict(X_test))) "
      ],
      "id": "bf7f74cf",
      "execution_count": null,
      "outputs": [
        {
          "output_type": "stream",
          "text": [
            "              precision    recall  f1-score   support\n",
            "\n",
            "           0       0.89      0.91      0.90      7037\n",
            "           1       0.91      0.89      0.90      7077\n",
            "\n",
            "    accuracy                           0.90     14114\n",
            "   macro avg       0.90      0.90      0.90     14114\n",
            "weighted avg       0.90      0.90      0.90     14114\n",
            "\n"
          ],
          "name": "stdout"
        }
      ]
    },
    {
      "cell_type": "code",
      "metadata": {
        "id": "699b36b5",
        "colab": {
          "base_uri": "https://localhost:8080/"
        },
        "outputId": "6e08df1a-a238-42ed-b3d8-740ceb987ad4"
      },
      "source": [
        "from sklearn import metrics\n",
        "import numpy as np\n",
        "\n",
        "print('Mean Absolute Error:', metrics.mean_absolute_error(y_test, lr_pipe.predict(X_test)))\n",
        "print('Mean Squared Error:', metrics.mean_squared_error(y_test, lr_pipe.predict(X_test)))\n",
        "print('Root Mean Squared Error:', np.sqrt(metrics.mean_squared_error(y_test, lr_pipe.predict(X_test))))"
      ],
      "id": "699b36b5",
      "execution_count": null,
      "outputs": [
        {
          "output_type": "stream",
          "text": [
            "Mean Absolute Error: 0.09968825279863965\n",
            "Mean Squared Error: 0.09968825279863965\n",
            "Root Mean Squared Error: 0.31573446564896845\n"
          ],
          "name": "stdout"
        }
      ]
    },
    {
      "cell_type": "code",
      "metadata": {
        "id": "mXxzj1_lQ7T3"
      },
      "source": [
        ""
      ],
      "id": "mXxzj1_lQ7T3",
      "execution_count": null,
      "outputs": []
    }
  ]
}